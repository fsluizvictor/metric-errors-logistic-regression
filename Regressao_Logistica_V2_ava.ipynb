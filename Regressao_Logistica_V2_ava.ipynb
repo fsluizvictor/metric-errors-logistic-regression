{
  "nbformat": 4,
  "nbformat_minor": 0,
  "metadata": {
    "colab": {
      "name": "Regressao_Logistica_V2_ava.ipynb",
      "provenance": [],
      "include_colab_link": true
    },
    "kernelspec": {
      "display_name": "Python 3",
      "language": "python",
      "name": "python3"
    },
    "language_info": {
      "codemirror_mode": {
        "name": "ipython",
        "version": 3
      },
      "file_extension": ".py",
      "mimetype": "text/x-python",
      "name": "python",
      "nbconvert_exporter": "python",
      "pygments_lexer": "ipython3",
      "version": "3.8.8"
    }
  },
  "cells": [
    {
      "cell_type": "markdown",
      "metadata": {
        "id": "view-in-github",
        "colab_type": "text"
      },
      "source": [
        "<a href=\"https://colab.research.google.com/github/fsluizvictor/metric-errors-logistic-regression/blob/main/Regressao_Logistica_V2_ava.ipynb\" target=\"_parent\"><img src=\"https://colab.research.google.com/assets/colab-badge.svg\" alt=\"Open In Colab\"/></a>"
      ]
    },
    {
      "cell_type": "markdown",
      "metadata": {
        "id": "QRGShm1h84El"
      },
      "source": [
        "#  Logistic Regression and Classification Error Metrics"
      ]
    },
    {
      "cell_type": "markdown",
      "metadata": {
        "id": "hXVQEvhV84En"
      },
      "source": [
        "## Introduction\n",
        "\n",
        "We will be using the [Human Activity Recognition with Smartphones](https://archive.ics.uci.edu/ml/datasets/Human+Activity+Recognition+Using+Smartphones) database, which was built from the recordings of study participants performing activities of daily living (ADL) while carrying a smartphone with an embedded inertial sensors. The objective is to classify activities into one of the six activities (walking, walking upstairs, walking downstairs, sitting, standing, and laying) performed.\n",
        "\n",
        "For each record in the dataset it is provided: \n",
        "\n",
        "- Triaxial acceleration from the accelerometer (total acceleration) and the estimated body acceleration. \n",
        "- Triaxial Angular velocity from the gyroscope. \n",
        "- A 561-feature vector with time and frequency domain variables. \n",
        "- Its activity label. \n",
        "\n",
        "More information about the features is available on the website: above or at https://www.kaggle.com/uciml/human-activity-recognition-with-smartphones "
      ]
    },
    {
      "cell_type": "code",
      "metadata": {
        "id": "ckKV7dQb84Eo"
      },
      "source": [
        "from __future__ import print_function\n",
        "import os\n",
        "#Data Path has to be set as per the file location in your system\n",
        "#data_path = ['..', 'data']\n",
        "data_path = ['data']"
      ],
      "execution_count": 36,
      "outputs": []
    },
    {
      "cell_type": "markdown",
      "metadata": {
        "id": "ZxMQivQZ84Ep"
      },
      "source": [
        "## Question 1\n",
        "\n",
        "Import the data and do the following:\n",
        "\n",
        "* Examine the data types--there are many columns, so it might be wise to use value counts\n",
        "* Determine if the floating point values need to be scaled\n",
        "* Determine the breakdown of each activity\n",
        "* Encode the activity label as an integer"
      ]
    },
    {
      "cell_type": "code",
      "metadata": {
        "id": "w6WfU5M784Eq"
      },
      "source": [
        "import pandas as pd\n",
        "import numpy as np\n",
        "#The filepath is dependent on the data_path set in the previous cell \n",
        "filepath = os.sep.join(data_path + ['Human_Activity_Recognition_Using_Smartphones_Data.csv'])\n",
        "data = pd.read_csv(filepath, sep=',')"
      ],
      "execution_count": 37,
      "outputs": []
    },
    {
      "cell_type": "markdown",
      "metadata": {
        "id": "yjckkt7N84Eq"
      },
      "source": [
        "The data columns are all floats except for the activity label."
      ]
    },
    {
      "cell_type": "code",
      "metadata": {
        "colab": {
          "base_uri": "https://localhost:8080/"
        },
        "id": "1Y2g1B9-84Er",
        "outputId": "99e5d1d9-eb96-486e-f083-1c43fb5be36a"
      },
      "source": [
        "data.dtypes.value_counts()"
      ],
      "execution_count": 38,
      "outputs": [
        {
          "output_type": "execute_result",
          "data": {
            "text/plain": [
              "float64    561\n",
              "object       1\n",
              "dtype: int64"
            ]
          },
          "metadata": {},
          "execution_count": 38
        }
      ]
    },
    {
      "cell_type": "code",
      "metadata": {
        "colab": {
          "base_uri": "https://localhost:8080/"
        },
        "id": "qWyf2qU084Es",
        "outputId": "68b5ed2f-dd02-4b08-84f1-7bde6c1824ae"
      },
      "source": [
        "data.dtypes.tail()"
      ],
      "execution_count": 39,
      "outputs": [
        {
          "output_type": "execute_result",
          "data": {
            "text/plain": [
              "angle(tBodyGyroJerkMean,gravityMean)    float64\n",
              "angle(X,gravityMean)                    float64\n",
              "angle(Y,gravityMean)                    float64\n",
              "angle(Z,gravityMean)                    float64\n",
              "Activity                                 object\n",
              "dtype: object"
            ]
          },
          "metadata": {},
          "execution_count": 39
        }
      ]
    },
    {
      "cell_type": "markdown",
      "metadata": {
        "id": "eu1ve5CI84Et"
      },
      "source": [
        "The data are all scaled from -1 (minimum) to 1.0 (maximum)."
      ]
    },
    {
      "cell_type": "code",
      "metadata": {
        "colab": {
          "base_uri": "https://localhost:8080/"
        },
        "id": "1-mevrMX84Et",
        "outputId": "8bb685d9-1f6e-45c3-a1d4-e2665d0555fd"
      },
      "source": [
        "data.iloc[:, :-1].min().value_counts()"
      ],
      "execution_count": 40,
      "outputs": [
        {
          "output_type": "execute_result",
          "data": {
            "text/plain": [
              "-1.0    561\n",
              "dtype: int64"
            ]
          },
          "metadata": {},
          "execution_count": 40
        }
      ]
    },
    {
      "cell_type": "code",
      "metadata": {
        "colab": {
          "base_uri": "https://localhost:8080/"
        },
        "id": "Ps_RISno84Eu",
        "outputId": "8f42ddb4-12f7-4768-bef1-62c43c07f025"
      },
      "source": [
        "data.iloc[:, :-1].max().value_counts()"
      ],
      "execution_count": 41,
      "outputs": [
        {
          "output_type": "execute_result",
          "data": {
            "text/plain": [
              "1.0    561\n",
              "dtype: int64"
            ]
          },
          "metadata": {},
          "execution_count": 41
        }
      ]
    },
    {
      "cell_type": "markdown",
      "metadata": {
        "id": "E9AN1tP284Eu"
      },
      "source": [
        "Examine the breakdown of activities--they are relatively balanced."
      ]
    },
    {
      "cell_type": "code",
      "metadata": {
        "colab": {
          "base_uri": "https://localhost:8080/"
        },
        "id": "flTedR2i84Eu",
        "outputId": "35e942d0-5153-434b-8774-96b6130fefa7"
      },
      "source": [
        "data.Activity.value_counts()"
      ],
      "execution_count": 42,
      "outputs": [
        {
          "output_type": "execute_result",
          "data": {
            "text/plain": [
              "LAYING                1944\n",
              "STANDING              1906\n",
              "SITTING               1777\n",
              "WALKING               1722\n",
              "WALKING_UPSTAIRS      1544\n",
              "WALKING_DOWNSTAIRS    1406\n",
              "Name: Activity, dtype: int64"
            ]
          },
          "metadata": {},
          "execution_count": 42
        }
      ]
    },
    {
      "cell_type": "markdown",
      "metadata": {
        "id": "wUb6vNR484Ev"
      },
      "source": [
        "Scikit learn classifiers won't accept a sparse matrix for the prediction column. Thus, either `LabelEncoder` needs to be used to convert the activity labels to integers, or if `DictVectorizer` is used, the resulting matrix must be converted to a non-sparse array.  \n",
        "Use `LabelEncoder` to fit_transform the \"Activity\" column, and look at 5 random values."
      ]
    },
    {
      "cell_type": "code",
      "metadata": {
        "colab": {
          "base_uri": "https://localhost:8080/"
        },
        "id": "rY_V0mjk84Ev",
        "outputId": "2f29e15d-2666-4d19-e3fb-3f46546a76e2"
      },
      "source": [
        "from sklearn.preprocessing import LabelEncoder\n",
        "\n",
        "le = LabelEncoder()\n",
        "data['Activity'] = le.fit_transform(data.Activity)\n",
        "data['Activity'].sample(5)"
      ],
      "execution_count": 43,
      "outputs": [
        {
          "output_type": "execute_result",
          "data": {
            "text/plain": [
              "3135    0\n",
              "7690    1\n",
              "6965    5\n",
              "7956    5\n",
              "5740    1\n",
              "Name: Activity, dtype: int64"
            ]
          },
          "metadata": {},
          "execution_count": 43
        }
      ]
    },
    {
      "cell_type": "markdown",
      "metadata": {
        "id": "wt3Xyr5c84Ev"
      },
      "source": [
        "## Question 2\n",
        "\n",
        "* Calculate the correlations between the dependent variables.\n",
        "* Create a histogram of the correlation values\n",
        "* Identify those that are most correlated (either positively or negatively)."
      ]
    },
    {
      "cell_type": "code",
      "metadata": {
        "id": "hAaIlK_n84Ew"
      },
      "source": [
        "# Calculate the correlation values\n",
        "feature_cols = data.columns[:-1]\n",
        "corr_values = data[feature_cols].corr()\n",
        "\n",
        "# Simplify by emptying all the data below the diagonal\n",
        "tril_index = np.tril_indices_from(corr_values)\n",
        "\n",
        "# Make the unused values NaNs\n",
        "for coord in zip(*tril_index):\n",
        "    corr_values.iloc[coord[0], coord[1]] = np.NaN\n",
        "    \n",
        "# Stack the data and convert to a data frame\n",
        "corr_values = (corr_values.stack().to_frame().reset_index().rename(columns={'level_0':'feature1','level_1':'feature2',0:'correlation'}))\n",
        "\n",
        "# Get the absolute values for sorting\n",
        "corr_values['abs_correlation'] = corr_values.correlation.abs()"
      ],
      "execution_count": 44,
      "outputs": []
    },
    {
      "cell_type": "markdown",
      "metadata": {
        "id": "E98YtzbA84Ew"
      },
      "source": [
        "A histogram of the absolute value correlations."
      ]
    },
    {
      "cell_type": "code",
      "metadata": {
        "id": "W0njkHMl84Ew"
      },
      "source": [
        "import matplotlib.pyplot as plt\n",
        "import seaborn as sns\n",
        "%matplotlib inline"
      ],
      "execution_count": 45,
      "outputs": []
    },
    {
      "cell_type": "code",
      "metadata": {
        "colab": {
          "base_uri": "https://localhost:8080/",
          "height": 308
        },
        "id": "R0itGPTW84Ew",
        "outputId": "b187bd08-e443-42c2-be4d-3b190733090b"
      },
      "source": [
        "sns.set_context('talk')\n",
        "sns.set_style('white')\n",
        "sns.set_palette('dark')\n",
        "\n",
        "ax = corr_values.abs_correlation.hist(bins=50)\n",
        "\n",
        "ax.set(xlabel='Absolute Correlation', ylabel='Frequency');"
      ],
      "execution_count": 46,
      "outputs": [
        {
          "output_type": "display_data",
          "data": {
            "image/png": "[encoded data removed]",
            "text/plain": [
              "<Figure size 432x288 with 1 Axes>"
            ]
          },
          "metadata": {}
        }
      ]
    },
    {
      "cell_type": "code",
      "metadata": {
        "colab": {
          "base_uri": "https://localhost:8080/",
          "height": 424
        },
        "id": "zvekh1d584Ex",
        "outputId": "03f52762-fbd9-404d-eec8-809a1b1b5a2e"
      },
      "source": [
        "# The most highly correlated values\n",
        "corr_values.sort_values('correlation', ascending=False).query('abs_correlation>0.8')"
      ],
      "execution_count": 47,
      "outputs": [
        {
          "output_type": "execute_result",
          "data": {
            "text/html": [
              "<div>\n",
              "<style scoped>\n",
              "    .dataframe tbody tr th:only-of-type {\n",
              "        vertical-align: middle;\n",
              "    }\n",
              "\n",
              "    .dataframe tbody tr th {\n",
              "        vertical-align: top;\n",
              "    }\n",
              "\n",
              "    .dataframe thead th {\n",
              "        text-align: right;\n",
              "    }\n",
              "</style>\n",
              "<table border=\"1\" class=\"dataframe\">\n",
              "  <thead>\n",
              "    <tr style=\"text-align: right;\">\n",
              "      <th></th>\n",
              "      <th>feature1</th>\n",
              "      <th>feature2</th>\n",
              "      <th>correlation</th>\n",
              "      <th>abs_correlation</th>\n",
              "    </tr>\n",
              "  </thead>\n",
              "  <tbody>\n",
              "    <tr>\n",
              "      <th>156894</th>\n",
              "      <td>fBodyBodyGyroJerkMag-mean()</td>\n",
              "      <td>fBodyBodyGyroJerkMag-sma()</td>\n",
              "      <td>1.000000</td>\n",
              "      <td>1.000000</td>\n",
              "    </tr>\n",
              "    <tr>\n",
              "      <th>93902</th>\n",
              "      <td>tBodyAccMag-sma()</td>\n",
              "      <td>tGravityAccMag-sma()</td>\n",
              "      <td>1.000000</td>\n",
              "      <td>1.000000</td>\n",
              "    </tr>\n",
              "    <tr>\n",
              "      <th>101139</th>\n",
              "      <td>tBodyAccJerkMag-mean()</td>\n",
              "      <td>tBodyAccJerkMag-sma()</td>\n",
              "      <td>1.000000</td>\n",
              "      <td>1.000000</td>\n",
              "    </tr>\n",
              "    <tr>\n",
              "      <th>96706</th>\n",
              "      <td>tGravityAccMag-mean()</td>\n",
              "      <td>tGravityAccMag-sma()</td>\n",
              "      <td>1.000000</td>\n",
              "      <td>1.000000</td>\n",
              "    </tr>\n",
              "    <tr>\n",
              "      <th>94257</th>\n",
              "      <td>tBodyAccMag-energy()</td>\n",
              "      <td>tGravityAccMag-energy()</td>\n",
              "      <td>1.000000</td>\n",
              "      <td>1.000000</td>\n",
              "    </tr>\n",
              "    <tr>\n",
              "      <th>...</th>\n",
              "      <td>...</td>\n",
              "      <td>...</td>\n",
              "      <td>...</td>\n",
              "      <td>...</td>\n",
              "    </tr>\n",
              "    <tr>\n",
              "      <th>22657</th>\n",
              "      <td>tGravityAcc-mean()-Y</td>\n",
              "      <td>angle(Y,gravityMean)</td>\n",
              "      <td>-0.993425</td>\n",
              "      <td>0.993425</td>\n",
              "    </tr>\n",
              "    <tr>\n",
              "      <th>39225</th>\n",
              "      <td>tGravityAcc-arCoeff()-Z,3</td>\n",
              "      <td>tGravityAcc-arCoeff()-Z,4</td>\n",
              "      <td>-0.994267</td>\n",
              "      <td>0.994267</td>\n",
              "    </tr>\n",
              "    <tr>\n",
              "      <th>38739</th>\n",
              "      <td>tGravityAcc-arCoeff()-Z,2</td>\n",
              "      <td>tGravityAcc-arCoeff()-Z,3</td>\n",
              "      <td>-0.994628</td>\n",
              "      <td>0.994628</td>\n",
              "    </tr>\n",
              "    <tr>\n",
              "      <th>23176</th>\n",
              "      <td>tGravityAcc-mean()-Z</td>\n",
              "      <td>angle(Z,gravityMean)</td>\n",
              "      <td>-0.994764</td>\n",
              "      <td>0.994764</td>\n",
              "    </tr>\n",
              "    <tr>\n",
              "      <th>38252</th>\n",
              "      <td>tGravityAcc-arCoeff()-Z,1</td>\n",
              "      <td>tGravityAcc-arCoeff()-Z,2</td>\n",
              "      <td>-0.995195</td>\n",
              "      <td>0.995195</td>\n",
              "    </tr>\n",
              "  </tbody>\n",
              "</table>\n",
              "<p>22815 rows × 4 columns</p>\n",
              "</div>"
            ],
            "text/plain": [
              "                           feature1  ... abs_correlation\n",
              "156894  fBodyBodyGyroJerkMag-mean()  ...        1.000000\n",
              "93902             tBodyAccMag-sma()  ...        1.000000\n",
              "101139       tBodyAccJerkMag-mean()  ...        1.000000\n",
              "96706         tGravityAccMag-mean()  ...        1.000000\n",
              "94257          tBodyAccMag-energy()  ...        1.000000\n",
              "...                             ...  ...             ...\n",
              "22657          tGravityAcc-mean()-Y  ...        0.993425\n",
              "39225     tGravityAcc-arCoeff()-Z,3  ...        0.994267\n",
              "38739     tGravityAcc-arCoeff()-Z,2  ...        0.994628\n",
              "23176          tGravityAcc-mean()-Z  ...        0.994764\n",
              "38252     tGravityAcc-arCoeff()-Z,1  ...        0.995195\n",
              "\n",
              "[22815 rows x 4 columns]"
            ]
          },
          "metadata": {},
          "execution_count": 47
        }
      ]
    },
    {
      "cell_type": "markdown",
      "metadata": {
        "id": "MNYogktk84Ex"
      },
      "source": [
        "## Question 3\n",
        "\n",
        "* Split the data into train and test data sets. This can be done using any method, but consider using Scikit-learn's `StratifiedShuffleSplit` to maintain the same ratio of predictor classes.\n",
        "* Regardless of methods used to split the data, compare the ratio of classes in both the train and test splits.\n"
      ]
    },
    {
      "cell_type": "code",
      "metadata": {
        "id": "rX-GAXjN84Ex"
      },
      "source": [
        "from sklearn.model_selection import StratifiedShuffleSplit\n",
        "\n",
        "# Get the split indexes\n",
        "strat_shuf_split = StratifiedShuffleSplit(n_splits=1,test_size=0.3, random_state=42)\n",
        "\n",
        "train_idx, test_idx = next(strat_shuf_split.split(data[feature_cols], data.Activity))\n",
        "\n",
        "# Create the dataframes\n",
        "X_train = data.loc[train_idx, feature_cols]\n",
        "y_train = data.loc[train_idx, 'Activity']\n",
        "\n",
        "X_test  = data.loc[test_idx, feature_cols]\n",
        "y_test  = data.loc[test_idx, 'Activity']\n"
      ],
      "execution_count": 48,
      "outputs": []
    },
    {
      "cell_type": "code",
      "metadata": {
        "colab": {
          "base_uri": "https://localhost:8080/"
        },
        "id": "hjrxB6pB84Ex",
        "outputId": "254c447a-1f86-44e8-e291-827c5ba098af"
      },
      "source": [
        "y_train.value_counts(normalize=True)"
      ],
      "execution_count": 49,
      "outputs": [
        {
          "output_type": "execute_result",
          "data": {
            "text/plain": [
              "0    0.188792\n",
              "2    0.185046\n",
              "1    0.172562\n",
              "3    0.167152\n",
              "5    0.149951\n",
              "4    0.136496\n",
              "Name: Activity, dtype: float64"
            ]
          },
          "metadata": {},
          "execution_count": 49
        }
      ]
    },
    {
      "cell_type": "code",
      "metadata": {
        "colab": {
          "base_uri": "https://localhost:8080/"
        },
        "id": "xjvCoTFO84Ey",
        "outputId": "ddf91d20-5d14-4927-8dc9-6187c98fcc9d"
      },
      "source": [
        "y_test.value_counts(normalize=True)"
      ],
      "execution_count": 50,
      "outputs": [
        {
          "output_type": "execute_result",
          "data": {
            "text/plain": [
              "0    0.188673\n",
              "2    0.185113\n",
              "1    0.172492\n",
              "3    0.167314\n",
              "5    0.149838\n",
              "4    0.136570\n",
              "Name: Activity, dtype: float64"
            ]
          },
          "metadata": {},
          "execution_count": 50
        }
      ]
    },
    {
      "cell_type": "markdown",
      "metadata": {
        "id": "9xW2kse784Ey"
      },
      "source": [
        "## Question 4\n",
        "\n",
        "* Fit a logistic regression model without any regularization using all of the features. Be sure to read the documentation about fitting a multi-class model so you understand the coefficient output. Store the model.\n",
        "* Using cross validation to determine the hyperparameters, fit models using L1, and L2 regularization. Store each of these models as well. Note the limitations on multi-class models, solvers, and regularizations. The regularized models, in particular the L1 model, will probably take a while to fit."
      ]
    },
    {
      "cell_type": "code",
      "metadata": {
        "colab": {
          "base_uri": "https://localhost:8080/"
        },
        "id": "gK5muLzt84Ey",
        "outputId": "a00764c5-c6bf-4849-b2e8-798766408500"
      },
      "source": [
        "from sklearn.linear_model import LogisticRegression\n",
        "\n",
        "# Standard logistic regression\n",
        "lr = LogisticRegression(max_iter=500, penalty='none').fit(X_train, y_train)\n",
        "lr.coef_"
      ],
      "execution_count": 51,
      "outputs": [
        {
          "output_type": "execute_result",
          "data": {
            "text/plain": [
              "array([[-3.35464206e+02,  5.93750445e+01,  7.40667217e+01, ...,\n",
              "         3.35192628e+03, -1.30168309e+03, -4.38578212e+02],\n",
              "       [-1.09098975e+03, -4.34523451e+02,  1.24617726e+02, ...,\n",
              "        -3.85868442e+02, -5.73130691e+02, -3.24525360e+02],\n",
              "       [ 4.76881232e+02,  3.47273049e+02,  3.63756576e+02, ...,\n",
              "        -1.37092939e+03,  1.02696588e+03,  1.08214824e+02],\n",
              "       [ 6.63781201e+00, -7.42987897e+01,  1.20830153e+01, ...,\n",
              "        -6.27987055e+02,  8.51920167e+01,  3.01993398e+02],\n",
              "       [ 6.80405044e+02,  1.46328598e+02,  7.07215595e-01, ...,\n",
              "        -1.18886230e+03, -6.95489952e+01, -5.94605599e+01],\n",
              "       [ 2.62529865e+02, -4.41544507e+01, -5.75231255e+02, ...,\n",
              "         2.21720900e+02,  8.32204874e+02,  4.12355910e+02]])"
            ]
          },
          "metadata": {},
          "execution_count": 51
        }
      ]
    },
    {
      "cell_type": "code",
      "metadata": {
        "id": "82g2yIcM84Ey"
      },
      "source": [
        "from sklearn.linear_model import LogisticRegressionCV\n",
        "\n",
        "# L1 regularized logistic regression\n",
        "lr_l1 = LogisticRegressionCV(Cs=10, cv=4, penalty='l1', solver='liblinear').fit(X_train, y_train)"
      ],
      "execution_count": 52,
      "outputs": []
    },
    {
      "cell_type": "code",
      "metadata": {
        "id": "PImGYLgB84Ey"
      },
      "source": [
        "#Try with different solvers like ‘newton-cg’, ‘lbfgs’, ‘sag’, ‘saga’ and give your observations"
      ],
      "execution_count": 53,
      "outputs": []
    },
    {
      "cell_type": "code",
      "metadata": {
        "id": "EhEQ71fM84Ez"
      },
      "source": [
        "# L2 regularized logistic regression\n",
        "lr_l2 = LogisticRegressionCV(Cs=10, cv=4, penalty='l2', max_iter=10000).fit(X_train, y_train)"
      ],
      "execution_count": 54,
      "outputs": []
    },
    {
      "cell_type": "markdown",
      "metadata": {
        "id": "3_1Az1JF84Ez"
      },
      "source": [
        "## Question 5\n",
        "\n",
        "Compare the magnitudes of the coefficients for each of the models. If one-vs-rest fitting was used, each set of coefficients can be plotted separately. "
      ]
    },
    {
      "cell_type": "code",
      "metadata": {
        "colab": {
          "base_uri": "https://localhost:8080/",
          "height": 414
        },
        "id": "2MlqhmLG84Ez",
        "outputId": "6ace242f-1be4-413d-cc04-0cae37c732b8"
      },
      "source": [
        "# Combine all the coefficients into a dataframe\n",
        "coefficients = list()\n",
        "\n",
        "coeff_labels = ['lr', 'l1', 'l2']\n",
        "coeff_models = [lr, lr_l1, lr_l2]\n",
        "\n",
        "#for lab,mod in zip(coeff_labels, coeff_models):\n",
        "#    coeffs = mod.coef_\n",
        "#    levels=[[lab], [0,1,2,3,4,5]]\n",
        "#    labels=[[0,0,0,0,0,0], [0,1,2,3,4,5]]\n",
        "#    coeff_label = pd.MultiIndex(levels,labels)\n",
        "#    coefficients.append(pd.DataFrame(coeffs.T, columns=coeff_label))\n",
        "\n",
        "for lab,mod in zip(coeff_labels, coeff_models):\n",
        "    coeffs = mod.coef_\n",
        "    coeff_label = pd.MultiIndex(levels=[[lab], [0,1,2,3,4,5]], \n",
        "                                 codes=[[0,0,0,0,0,0], [0,1,2,3,4,5]])\n",
        "    coefficients.append(pd.DataFrame(coeffs.T, columns=coeff_label))\n",
        "\n",
        "coefficients = pd.concat(coefficients, axis=1)\n",
        "\n",
        "coefficients.sample(10)\n",
        "\n"
      ],
      "execution_count": 55,
      "outputs": [
        {
          "output_type": "execute_result",
          "data": {
            "text/html": [
              "<div>\n",
              "<style scoped>\n",
              "    .dataframe tbody tr th:only-of-type {\n",
              "        vertical-align: middle;\n",
              "    }\n",
              "\n",
              "    .dataframe tbody tr th {\n",
              "        vertical-align: top;\n",
              "    }\n",
              "\n",
              "    .dataframe thead tr th {\n",
              "        text-align: left;\n",
              "    }\n",
              "</style>\n",
              "<table border=\"1\" class=\"dataframe\">\n",
              "  <thead>\n",
              "    <tr>\n",
              "      <th></th>\n",
              "      <th colspan=\"6\" halign=\"left\">lr</th>\n",
              "      <th colspan=\"6\" halign=\"left\">l1</th>\n",
              "      <th colspan=\"6\" halign=\"left\">l2</th>\n",
              "    </tr>\n",
              "    <tr>\n",
              "      <th></th>\n",
              "      <th>0</th>\n",
              "      <th>1</th>\n",
              "      <th>2</th>\n",
              "      <th>3</th>\n",
              "      <th>4</th>\n",
              "      <th>5</th>\n",
              "      <th>0</th>\n",
              "      <th>1</th>\n",
              "      <th>2</th>\n",
              "      <th>3</th>\n",
              "      <th>4</th>\n",
              "      <th>5</th>\n",
              "      <th>0</th>\n",
              "      <th>1</th>\n",
              "      <th>2</th>\n",
              "      <th>3</th>\n",
              "      <th>4</th>\n",
              "      <th>5</th>\n",
              "    </tr>\n",
              "  </thead>\n",
              "  <tbody>\n",
              "    <tr>\n",
              "      <th>532</th>\n",
              "      <td>100.417880</td>\n",
              "      <td>1061.209375</td>\n",
              "      <td>-940.293038</td>\n",
              "      <td>-461.639058</td>\n",
              "      <td>207.623875</td>\n",
              "      <td>32.680965</td>\n",
              "      <td>0.000000</td>\n",
              "      <td>2.099265</td>\n",
              "      <td>-0.232095</td>\n",
              "      <td>-0.034537</td>\n",
              "      <td>0.709828</td>\n",
              "      <td>0.221434</td>\n",
              "      <td>0.051280</td>\n",
              "      <td>0.635237</td>\n",
              "      <td>-0.717709</td>\n",
              "      <td>-0.214907</td>\n",
              "      <td>0.236913</td>\n",
              "      <td>0.009187</td>\n",
              "    </tr>\n",
              "    <tr>\n",
              "      <th>418</th>\n",
              "      <td>40.434512</td>\n",
              "      <td>169.723595</td>\n",
              "      <td>239.775540</td>\n",
              "      <td>-217.745324</td>\n",
              "      <td>200.094999</td>\n",
              "      <td>-432.283322</td>\n",
              "      <td>0.000000</td>\n",
              "      <td>0.177335</td>\n",
              "      <td>0.000041</td>\n",
              "      <td>0.000000</td>\n",
              "      <td>0.083005</td>\n",
              "      <td>0.027001</td>\n",
              "      <td>-0.014975</td>\n",
              "      <td>0.001087</td>\n",
              "      <td>-0.010551</td>\n",
              "      <td>-0.034501</td>\n",
              "      <td>0.223789</td>\n",
              "      <td>-0.164849</td>\n",
              "    </tr>\n",
              "    <tr>\n",
              "      <th>490</th>\n",
              "      <td>13.413842</td>\n",
              "      <td>69.461455</td>\n",
              "      <td>287.007795</td>\n",
              "      <td>-980.794447</td>\n",
              "      <td>-130.726971</td>\n",
              "      <td>741.638326</td>\n",
              "      <td>0.000000</td>\n",
              "      <td>0.074259</td>\n",
              "      <td>0.347424</td>\n",
              "      <td>-0.196280</td>\n",
              "      <td>-0.002173</td>\n",
              "      <td>0.909029</td>\n",
              "      <td>-0.015602</td>\n",
              "      <td>-0.036891</td>\n",
              "      <td>0.026364</td>\n",
              "      <td>-0.510806</td>\n",
              "      <td>-0.075777</td>\n",
              "      <td>0.612713</td>\n",
              "    </tr>\n",
              "    <tr>\n",
              "      <th>218</th>\n",
              "      <td>-267.723281</td>\n",
              "      <td>-652.091033</td>\n",
              "      <td>-230.377902</td>\n",
              "      <td>430.181338</td>\n",
              "      <td>106.485056</td>\n",
              "      <td>613.525822</td>\n",
              "      <td>0.000000</td>\n",
              "      <td>-0.512729</td>\n",
              "      <td>-0.227668</td>\n",
              "      <td>0.000000</td>\n",
              "      <td>-1.285361</td>\n",
              "      <td>-0.484754</td>\n",
              "      <td>0.017825</td>\n",
              "      <td>-0.227842</td>\n",
              "      <td>0.025002</td>\n",
              "      <td>0.060477</td>\n",
              "      <td>-0.134719</td>\n",
              "      <td>0.259257</td>\n",
              "    </tr>\n",
              "    <tr>\n",
              "      <th>99</th>\n",
              "      <td>-496.441058</td>\n",
              "      <td>-550.700080</td>\n",
              "      <td>-304.962796</td>\n",
              "      <td>365.398383</td>\n",
              "      <td>366.228274</td>\n",
              "      <td>620.477276</td>\n",
              "      <td>-0.040915</td>\n",
              "      <td>-0.017873</td>\n",
              "      <td>-0.348021</td>\n",
              "      <td>-0.336427</td>\n",
              "      <td>0.000000</td>\n",
              "      <td>0.448551</td>\n",
              "      <td>-0.048626</td>\n",
              "      <td>-0.206794</td>\n",
              "      <td>-0.068906</td>\n",
              "      <td>0.077235</td>\n",
              "      <td>-0.026969</td>\n",
              "      <td>0.274059</td>\n",
              "    </tr>\n",
              "    <tr>\n",
              "      <th>389</th>\n",
              "      <td>-103.147071</td>\n",
              "      <td>-22.279518</td>\n",
              "      <td>109.464770</td>\n",
              "      <td>386.820363</td>\n",
              "      <td>-393.744847</td>\n",
              "      <td>22.886303</td>\n",
              "      <td>0.000000</td>\n",
              "      <td>0.000000</td>\n",
              "      <td>0.000000</td>\n",
              "      <td>0.302515</td>\n",
              "      <td>-0.063144</td>\n",
              "      <td>-0.302561</td>\n",
              "      <td>-0.019612</td>\n",
              "      <td>-0.046600</td>\n",
              "      <td>-0.019831</td>\n",
              "      <td>0.266740</td>\n",
              "      <td>-0.178648</td>\n",
              "      <td>-0.002050</td>\n",
              "    </tr>\n",
              "    <tr>\n",
              "      <th>195</th>\n",
              "      <td>146.591408</td>\n",
              "      <td>-2441.225830</td>\n",
              "      <td>2644.599605</td>\n",
              "      <td>-364.428355</td>\n",
              "      <td>501.690958</td>\n",
              "      <td>-487.227787</td>\n",
              "      <td>0.000000</td>\n",
              "      <td>-2.761196</td>\n",
              "      <td>2.154520</td>\n",
              "      <td>-0.856556</td>\n",
              "      <td>0.166717</td>\n",
              "      <td>-1.074719</td>\n",
              "      <td>-0.052973</td>\n",
              "      <td>-0.941970</td>\n",
              "      <td>1.095173</td>\n",
              "      <td>-0.324478</td>\n",
              "      <td>0.190117</td>\n",
              "      <td>0.034131</td>\n",
              "    </tr>\n",
              "    <tr>\n",
              "      <th>180</th>\n",
              "      <td>-158.969662</td>\n",
              "      <td>-316.290458</td>\n",
              "      <td>219.928092</td>\n",
              "      <td>13.270548</td>\n",
              "      <td>422.162387</td>\n",
              "      <td>-180.100907</td>\n",
              "      <td>0.000000</td>\n",
              "      <td>0.000000</td>\n",
              "      <td>0.000000</td>\n",
              "      <td>0.305207</td>\n",
              "      <td>0.039806</td>\n",
              "      <td>-0.451526</td>\n",
              "      <td>-0.019600</td>\n",
              "      <td>-0.190533</td>\n",
              "      <td>0.109824</td>\n",
              "      <td>0.063872</td>\n",
              "      <td>0.233803</td>\n",
              "      <td>-0.197365</td>\n",
              "    </tr>\n",
              "    <tr>\n",
              "      <th>415</th>\n",
              "      <td>26.895562</td>\n",
              "      <td>133.729012</td>\n",
              "      <td>220.926918</td>\n",
              "      <td>-282.731744</td>\n",
              "      <td>244.882030</td>\n",
              "      <td>-343.701778</td>\n",
              "      <td>-0.001397</td>\n",
              "      <td>0.000000</td>\n",
              "      <td>0.000000</td>\n",
              "      <td>-0.033855</td>\n",
              "      <td>0.643393</td>\n",
              "      <td>0.213826</td>\n",
              "      <td>-0.013185</td>\n",
              "      <td>-0.015937</td>\n",
              "      <td>-0.008617</td>\n",
              "      <td>-0.125103</td>\n",
              "      <td>0.306176</td>\n",
              "      <td>-0.143335</td>\n",
              "    </tr>\n",
              "    <tr>\n",
              "      <th>314</th>\n",
              "      <td>-60.898076</td>\n",
              "      <td>-131.097510</td>\n",
              "      <td>15.150835</td>\n",
              "      <td>-415.638995</td>\n",
              "      <td>375.555727</td>\n",
              "      <td>216.928019</td>\n",
              "      <td>0.000000</td>\n",
              "      <td>0.000000</td>\n",
              "      <td>0.000000</td>\n",
              "      <td>-0.783442</td>\n",
              "      <td>0.170071</td>\n",
              "      <td>-0.113838</td>\n",
              "      <td>0.018147</td>\n",
              "      <td>-0.083822</td>\n",
              "      <td>-0.049998</td>\n",
              "      <td>-0.324257</td>\n",
              "      <td>0.332131</td>\n",
              "      <td>0.107800</td>\n",
              "    </tr>\n",
              "  </tbody>\n",
              "</table>\n",
              "</div>"
            ],
            "text/plain": [
              "             lr                            ...        l2                    \n",
              "              0            1            2  ...         3         4         5\n",
              "532  100.417880  1061.209375  -940.293038  ... -0.214907  0.236913  0.009187\n",
              "418   40.434512   169.723595   239.775540  ... -0.034501  0.223789 -0.164849\n",
              "490   13.413842    69.461455   287.007795  ... -0.510806 -0.075777  0.612713\n",
              "218 -267.723281  -652.091033  -230.377902  ...  0.060477 -0.134719  0.259257\n",
              "99  -496.441058  -550.700080  -304.962796  ...  0.077235 -0.026969  0.274059\n",
              "389 -103.147071   -22.279518   109.464770  ...  0.266740 -0.178648 -0.002050\n",
              "195  146.591408 -2441.225830  2644.599605  ... -0.324478  0.190117  0.034131\n",
              "180 -158.969662  -316.290458   219.928092  ...  0.063872  0.233803 -0.197365\n",
              "415   26.895562   133.729012   220.926918  ... -0.125103  0.306176 -0.143335\n",
              "314  -60.898076  -131.097510    15.150835  ... -0.324257  0.332131  0.107800\n",
              "\n",
              "[10 rows x 18 columns]"
            ]
          },
          "metadata": {},
          "execution_count": 55
        }
      ]
    },
    {
      "cell_type": "markdown",
      "metadata": {
        "id": "V69kemRz84Ez"
      },
      "source": [
        "Prepare six separate plots for each of the multi-class coefficients."
      ]
    },
    {
      "cell_type": "code",
      "metadata": {
        "colab": {
          "base_uri": "https://localhost:8080/",
          "height": 712
        },
        "id": "64Kz0ThU84Ez",
        "outputId": "fc7b23ca-9cc4-469f-b05f-ccfd72ba7dbc"
      },
      "source": [
        "fig, axList = plt.subplots(nrows=3, ncols=2)\n",
        "axList = axList.flatten()\n",
        "fig.set_size_inches(10,10)\n",
        "\n",
        "\n",
        "for ax in enumerate(axList):\n",
        "    loc = ax[0]\n",
        "    ax = ax[1]\n",
        "    \n",
        "    data_aux = coefficients.xs(loc, level=1, axis=1)\n",
        "    data_aux.plot(marker='o', ls='', ms=2.0, ax=ax, legend=False)\n",
        "    \n",
        "    if ax is axList[0]:\n",
        "        ax.legend(loc=4)\n",
        "        \n",
        "    ax.set(title='Coefficient Set '+str(loc))\n",
        "\n",
        "plt.tight_layout()\n",
        "\n",
        "\n"
      ],
      "execution_count": 56,
      "outputs": [
        {
          "output_type": "display_data",
          "data": {
            "image/png": "[encoded data removed]",
            "text/plain": [
              "<Figure size 720x720 with 6 Axes>"
            ]
          },
          "metadata": {}
        }
      ]
    },
    {
      "cell_type": "markdown",
      "metadata": {
        "id": "hn7MyWwM84Ez"
      },
      "source": [
        "## Question 6\n",
        "\n",
        "* Predict and store the class for each model.\n",
        "* Also store the probability for the predicted class for each model. "
      ]
    },
    {
      "cell_type": "code",
      "metadata": {
        "colab": {
          "base_uri": "https://localhost:8080/",
          "height": 206
        },
        "id": "3snNYu2A84Ez",
        "outputId": "0d641502-4350-423d-8da3-15c4d28f037d"
      },
      "source": [
        "# Predict the class and the probability for each\n",
        "\n",
        "y_pred = list()\n",
        "y_prob = list()\n",
        "\n",
        "coeff_labels = ['lr', 'l1', 'l2']\n",
        "coeff_models = [lr, lr_l1, lr_l2]\n",
        "\n",
        "for lab,mod in zip(coeff_labels, coeff_models):\n",
        "    y_pred.append(pd.Series(mod.predict(X_test), name=lab))\n",
        "    y_prob.append(pd.Series(mod.predict_proba(X_test).max(axis=1), name=lab))\n",
        "    \n",
        "y_pred = pd.concat(y_pred, axis=1)\n",
        "y_prob = pd.concat(y_prob, axis=1)\n",
        "\n",
        "y_pred.head()\n",
        "\n"
      ],
      "execution_count": 57,
      "outputs": [
        {
          "output_type": "execute_result",
          "data": {
            "text/html": [
              "<div>\n",
              "<style scoped>\n",
              "    .dataframe tbody tr th:only-of-type {\n",
              "        vertical-align: middle;\n",
              "    }\n",
              "\n",
              "    .dataframe tbody tr th {\n",
              "        vertical-align: top;\n",
              "    }\n",
              "\n",
              "    .dataframe thead th {\n",
              "        text-align: right;\n",
              "    }\n",
              "</style>\n",
              "<table border=\"1\" class=\"dataframe\">\n",
              "  <thead>\n",
              "    <tr style=\"text-align: right;\">\n",
              "      <th></th>\n",
              "      <th>lr</th>\n",
              "      <th>l1</th>\n",
              "      <th>l2</th>\n",
              "    </tr>\n",
              "  </thead>\n",
              "  <tbody>\n",
              "    <tr>\n",
              "      <th>0</th>\n",
              "      <td>3</td>\n",
              "      <td>3</td>\n",
              "      <td>3</td>\n",
              "    </tr>\n",
              "    <tr>\n",
              "      <th>1</th>\n",
              "      <td>5</td>\n",
              "      <td>5</td>\n",
              "      <td>5</td>\n",
              "    </tr>\n",
              "    <tr>\n",
              "      <th>2</th>\n",
              "      <td>3</td>\n",
              "      <td>3</td>\n",
              "      <td>3</td>\n",
              "    </tr>\n",
              "    <tr>\n",
              "      <th>3</th>\n",
              "      <td>1</td>\n",
              "      <td>1</td>\n",
              "      <td>1</td>\n",
              "    </tr>\n",
              "    <tr>\n",
              "      <th>4</th>\n",
              "      <td>0</td>\n",
              "      <td>0</td>\n",
              "      <td>0</td>\n",
              "    </tr>\n",
              "  </tbody>\n",
              "</table>\n",
              "</div>"
            ],
            "text/plain": [
              "   lr  l1  l2\n",
              "0   3   3   3\n",
              "1   5   5   5\n",
              "2   3   3   3\n",
              "3   1   1   1\n",
              "4   0   0   0"
            ]
          },
          "metadata": {},
          "execution_count": 57
        }
      ]
    },
    {
      "cell_type": "code",
      "metadata": {
        "colab": {
          "base_uri": "https://localhost:8080/",
          "height": 206
        },
        "id": "DM1caZqF84E0",
        "outputId": "09dc12f9-f3ef-46ad-dff2-b95d9e15563e"
      },
      "source": [
        "y_prob.head()"
      ],
      "execution_count": 58,
      "outputs": [
        {
          "output_type": "execute_result",
          "data": {
            "text/html": [
              "<div>\n",
              "<style scoped>\n",
              "    .dataframe tbody tr th:only-of-type {\n",
              "        vertical-align: middle;\n",
              "    }\n",
              "\n",
              "    .dataframe tbody tr th {\n",
              "        vertical-align: top;\n",
              "    }\n",
              "\n",
              "    .dataframe thead th {\n",
              "        text-align: right;\n",
              "    }\n",
              "</style>\n",
              "<table border=\"1\" class=\"dataframe\">\n",
              "  <thead>\n",
              "    <tr style=\"text-align: right;\">\n",
              "      <th></th>\n",
              "      <th>lr</th>\n",
              "      <th>l1</th>\n",
              "      <th>l2</th>\n",
              "    </tr>\n",
              "  </thead>\n",
              "  <tbody>\n",
              "    <tr>\n",
              "      <th>0</th>\n",
              "      <td>1.0</td>\n",
              "      <td>0.999026</td>\n",
              "      <td>0.999999</td>\n",
              "    </tr>\n",
              "    <tr>\n",
              "      <th>1</th>\n",
              "      <td>1.0</td>\n",
              "      <td>0.999693</td>\n",
              "      <td>0.999654</td>\n",
              "    </tr>\n",
              "    <tr>\n",
              "      <th>2</th>\n",
              "      <td>1.0</td>\n",
              "      <td>0.995580</td>\n",
              "      <td>0.998871</td>\n",
              "    </tr>\n",
              "    <tr>\n",
              "      <th>3</th>\n",
              "      <td>1.0</td>\n",
              "      <td>0.999167</td>\n",
              "      <td>0.997831</td>\n",
              "    </tr>\n",
              "    <tr>\n",
              "      <th>4</th>\n",
              "      <td>1.0</td>\n",
              "      <td>0.999921</td>\n",
              "      <td>0.999305</td>\n",
              "    </tr>\n",
              "  </tbody>\n",
              "</table>\n",
              "</div>"
            ],
            "text/plain": [
              "    lr        l1        l2\n",
              "0  1.0  0.999026  0.999999\n",
              "1  1.0  0.999693  0.999654\n",
              "2  1.0  0.995580  0.998871\n",
              "3  1.0  0.999167  0.997831\n",
              "4  1.0  0.999921  0.999305"
            ]
          },
          "metadata": {},
          "execution_count": 58
        }
      ]
    },
    {
      "cell_type": "markdown",
      "metadata": {
        "id": "0dnFQr-184E0"
      },
      "source": [
        "## Question 7\n",
        "\n",
        "For each model, calculate the following error metrics: \n",
        "\n",
        "* accuracy\n",
        "* precision\n",
        "* recall\n",
        "* fscore\n",
        "* confusion matrix\n",
        "\n",
        "Decide how to combine the multi-class metrics into a single value for each model."
      ]
    },
    {
      "cell_type": "code",
      "metadata": {
        "id": "2cJkeZ6h84E0"
      },
      "source": [
        "from sklearn.metrics import precision_recall_fscore_support as score\n",
        "from sklearn.metrics import confusion_matrix, accuracy_score, roc_auc_score\n",
        "from sklearn.preprocessing import label_binarize\n",
        "\n",
        "metrics = list()\n",
        "cm = dict()\n",
        "\n",
        "for lab in coeff_labels:\n",
        "\n",
        "    # Preciision, recall, f-score from the multi-class support function\n",
        "    precision, recall, fscore, _ = score(y_test, y_pred[lab], average='weighted')\n",
        "    \n",
        "    # The usual way to calculate accuracy\n",
        "    accuracy = accuracy_score(y_test, y_pred[lab])\n",
        "    \n",
        "    # ROC-AUC scores can be calculated by binarizing the data\n",
        "    auc = roc_auc_score(label_binarize(y_test, classes=[0,1,2,3,4,5]),\n",
        "              label_binarize(y_pred[lab], classes=[0,1,2,3,4,5]), \n",
        "              average='weighted')\n",
        "    \n",
        "    # Last, the confusion matrix\n",
        "    cm[lab] = confusion_matrix(y_test, y_pred[lab])\n",
        "    \n",
        "    metrics.append(pd.Series({'precision':precision, 'recall':recall, \n",
        "                              'fscore':fscore, 'accuracy':accuracy,\n",
        "                              'auc':auc}, \n",
        "                             name=lab))\n",
        "\n",
        "metrics = pd.concat(metrics, axis=1)\n"
      ],
      "execution_count": 59,
      "outputs": []
    },
    {
      "cell_type": "code",
      "metadata": {
        "colab": {
          "base_uri": "https://localhost:8080/",
          "height": 206
        },
        "id": "QmUcBH9V84E0",
        "outputId": "125db081-8ab7-4940-986b-54c228c83617"
      },
      "source": [
        "#Run the metrics\n",
        "metrics"
      ],
      "execution_count": 60,
      "outputs": [
        {
          "output_type": "execute_result",
          "data": {
            "text/html": [
              "<div>\n",
              "<style scoped>\n",
              "    .dataframe tbody tr th:only-of-type {\n",
              "        vertical-align: middle;\n",
              "    }\n",
              "\n",
              "    .dataframe tbody tr th {\n",
              "        vertical-align: top;\n",
              "    }\n",
              "\n",
              "    .dataframe thead th {\n",
              "        text-align: right;\n",
              "    }\n",
              "</style>\n",
              "<table border=\"1\" class=\"dataframe\">\n",
              "  <thead>\n",
              "    <tr style=\"text-align: right;\">\n",
              "      <th></th>\n",
              "      <th>lr</th>\n",
              "      <th>l1</th>\n",
              "      <th>l2</th>\n",
              "    </tr>\n",
              "  </thead>\n",
              "  <tbody>\n",
              "    <tr>\n",
              "      <th>precision</th>\n",
              "      <td>0.980879</td>\n",
              "      <td>0.983835</td>\n",
              "      <td>0.983485</td>\n",
              "    </tr>\n",
              "    <tr>\n",
              "      <th>recall</th>\n",
              "      <td>0.980906</td>\n",
              "      <td>0.983819</td>\n",
              "      <td>0.983495</td>\n",
              "    </tr>\n",
              "    <tr>\n",
              "      <th>fscore</th>\n",
              "      <td>0.980888</td>\n",
              "      <td>0.983815</td>\n",
              "      <td>0.983488</td>\n",
              "    </tr>\n",
              "    <tr>\n",
              "      <th>accuracy</th>\n",
              "      <td>0.980906</td>\n",
              "      <td>0.983819</td>\n",
              "      <td>0.983495</td>\n",
              "    </tr>\n",
              "    <tr>\n",
              "      <th>auc</th>\n",
              "      <td>0.988409</td>\n",
              "      <td>0.990144</td>\n",
              "      <td>0.989983</td>\n",
              "    </tr>\n",
              "  </tbody>\n",
              "</table>\n",
              "</div>"
            ],
            "text/plain": [
              "                 lr        l1        l2\n",
              "precision  0.980879  0.983835  0.983485\n",
              "recall     0.980906  0.983819  0.983495\n",
              "fscore     0.980888  0.983815  0.983488\n",
              "accuracy   0.980906  0.983819  0.983495\n",
              "auc        0.988409  0.990144  0.989983"
            ]
          },
          "metadata": {},
          "execution_count": 60
        }
      ]
    },
    {
      "cell_type": "markdown",
      "metadata": {
        "id": "GG3klF_M84E0"
      },
      "source": [
        "## Question 8\n",
        "\n",
        "Display or plot the confusion matrix for each model."
      ]
    },
    {
      "cell_type": "code",
      "metadata": {
        "colab": {
          "base_uri": "https://localhost:8080/",
          "height": 712
        },
        "id": "_SNg_8Bh84E0",
        "outputId": "75a2cd81-e50d-4e66-8fe1-90cdacb279ae"
      },
      "source": [
        "\n",
        "fig, axList = plt.subplots(nrows=2, ncols=2)\n",
        "axList = axList.flatten()\n",
        "fig.set_size_inches(12, 10)\n",
        "\n",
        "axList[-1].axis('off')\n",
        "\n",
        "for ax,lab in zip(axList[:-1], coeff_labels):\n",
        "    sns.heatmap(cm[lab], ax=ax, annot=True, fmt='d');\n",
        "    ax.set(title=lab);\n",
        "    \n",
        "plt.tight_layout()\n"
      ],
      "execution_count": 61,
      "outputs": [
        {
          "output_type": "display_data",
          "data": {
            "image/png": "[encoded data removed]",
            "text/plain": [
              "<Figure size 864x720 with 7 Axes>"
            ]
          },
          "metadata": {}
        }
      ]
    },
    {
      "cell_type": "markdown",
      "metadata": {
        "collapsed": true,
        "id": "hp7VAgSz84E1"
      },
      "source": [
        "## Question 9\n",
        " Identify highly correlated columns and drop those columns before building models"
      ]
    },
    {
      "cell_type": "code",
      "metadata": {
        "colab": {
          "base_uri": "https://localhost:8080/"
        },
        "id": "LOvdz9Dt84E1",
        "outputId": "993a9a66-f9b0-443c-d25f-eee0375c285c"
      },
      "source": [
        "from sklearn.feature_selection import SelectKBest\n",
        "from sklearn.feature_selection import chi2\n",
        "from sklearn.feature_selection import VarianceThreshold\n",
        "\n",
        "\n",
        "X_data = data.iloc[:, :-1]\n",
        "\n",
        "\n",
        "#threshold with .7\n",
        "sel = VarianceThreshold(threshold=(.7 * (1 - .7)))\n",
        "X_data = pd.DataFrame(sel.fit_transform(X_data))\n",
        "\n",
        "\n",
        "feature_cols = X_data.columns[:]\n",
        "\n",
        "\n",
        "# Dividindo os subjconjuntos de treino e teste, seguindo os mesmos\n",
        "# Indices obtidos com Stratified Shuffle Split, agora com os dados\n",
        "# Com menos features\n",
        " \n",
        "\n",
        "X_train_new = X_data.loc[train_idx, :]\n",
        "\n",
        "y_train_new = data.loc[train_idx, 'Activity']\n",
        " \n",
        "X_test_new  = X_data.loc[test_idx, :]\n",
        "y_test_new  = data.loc[test_idx, 'Activity']\n",
        " \n",
        "print(X_train.shape)\n",
        "print(X_train_new.shape)\n",
        " \n",
        "print(X_test.shape)"
      ],
      "execution_count": 62,
      "outputs": [
        {
          "output_type": "stream",
          "name": "stdout",
          "text": [
            "(7209, 561)\n",
            "(7209, 50)\n",
            "(3090, 561)\n"
          ]
        }
      ]
    },
    {
      "cell_type": "markdown",
      "metadata": {
        "id": "xiYkkCl084E1"
      },
      "source": [
        " Repeat Model building with new training data after removing higly correlated columns"
      ]
    },
    {
      "cell_type": "code",
      "metadata": {
        "colab": {
          "base_uri": "https://localhost:8080/"
        },
        "id": "U49eDh5Y84E1",
        "outputId": "08a835ae-9b9c-4b8e-9dce-5ffdc9d84734"
      },
      "source": [
        "# Try standard, L1 and L2 Logistic regression\n",
        "lr_new = LogisticRegression(max_iter=500, penalty='none').fit(X_train_new, y_train_new)"
      ],
      "execution_count": 63,
      "outputs": [
        {
          "output_type": "stream",
          "name": "stderr",
          "text": [
            "/usr/local/lib/python3.7/dist-packages/sklearn/linear_model/_logistic.py:818: ConvergenceWarning: lbfgs failed to converge (status=1):\n",
            "STOP: TOTAL NO. of ITERATIONS REACHED LIMIT.\n",
            "\n",
            "Increase the number of iterations (max_iter) or scale the data as shown in:\n",
            "    https://scikit-learn.org/stable/modules/preprocessing.html\n",
            "Please also refer to the documentation for alternative solver options:\n",
            "    https://scikit-learn.org/stable/modules/linear_model.html#logistic-regression\n",
            "  extra_warning_msg=_LOGISTIC_SOLVER_CONVERGENCE_MSG,\n"
          ]
        }
      ]
    },
    {
      "cell_type": "code",
      "metadata": {
        "id": "Rl4BWGxB84E1"
      },
      "source": [
        "#Try with different solvers like ‘newton-cg’, ‘lbfgs’, ‘sag’, ‘saga’ and give your observations"
      ],
      "execution_count": 64,
      "outputs": []
    },
    {
      "cell_type": "code",
      "metadata": {
        "colab": {
          "base_uri": "https://localhost:8080/"
        },
        "id": "IM-JY2CXIGIM",
        "outputId": "11e56716-abe0-46cc-c052-16673096cbf5"
      },
      "source": [
        "# L1 regularized logistic regression\n",
        "lr_l1_new = LogisticRegressionCV(Cs=10, cv=4, penalty='l1', solver='liblinear').fit(X_train_new, y_train_new)"
      ],
      "execution_count": 65,
      "outputs": [
        {
          "output_type": "stream",
          "name": "stderr",
          "text": [
            "/usr/local/lib/python3.7/dist-packages/sklearn/svm/_base.py:1208: ConvergenceWarning: Liblinear failed to converge, increase the number of iterations.\n",
            "  ConvergenceWarning,\n",
            "/usr/local/lib/python3.7/dist-packages/sklearn/svm/_base.py:1208: ConvergenceWarning: Liblinear failed to converge, increase the number of iterations.\n",
            "  ConvergenceWarning,\n",
            "/usr/local/lib/python3.7/dist-packages/sklearn/svm/_base.py:1208: ConvergenceWarning: Liblinear failed to converge, increase the number of iterations.\n",
            "  ConvergenceWarning,\n",
            "/usr/local/lib/python3.7/dist-packages/sklearn/svm/_base.py:1208: ConvergenceWarning: Liblinear failed to converge, increase the number of iterations.\n",
            "  ConvergenceWarning,\n",
            "/usr/local/lib/python3.7/dist-packages/sklearn/svm/_base.py:1208: ConvergenceWarning: Liblinear failed to converge, increase the number of iterations.\n",
            "  ConvergenceWarning,\n",
            "/usr/local/lib/python3.7/dist-packages/sklearn/svm/_base.py:1208: ConvergenceWarning: Liblinear failed to converge, increase the number of iterations.\n",
            "  ConvergenceWarning,\n",
            "/usr/local/lib/python3.7/dist-packages/sklearn/svm/_base.py:1208: ConvergenceWarning: Liblinear failed to converge, increase the number of iterations.\n",
            "  ConvergenceWarning,\n",
            "/usr/local/lib/python3.7/dist-packages/sklearn/svm/_base.py:1208: ConvergenceWarning: Liblinear failed to converge, increase the number of iterations.\n",
            "  ConvergenceWarning,\n",
            "/usr/local/lib/python3.7/dist-packages/sklearn/svm/_base.py:1208: ConvergenceWarning: Liblinear failed to converge, increase the number of iterations.\n",
            "  ConvergenceWarning,\n",
            "/usr/local/lib/python3.7/dist-packages/sklearn/svm/_base.py:1208: ConvergenceWarning: Liblinear failed to converge, increase the number of iterations.\n",
            "  ConvergenceWarning,\n"
          ]
        }
      ]
    },
    {
      "cell_type": "code",
      "metadata": {
        "id": "vm2b6db3ICvn"
      },
      "source": [
        "# L2 regularized logistic regression\n",
        "lr_l2_new = LogisticRegressionCV(Cs=10, cv=4, penalty='l2', max_iter=10000).fit(X_train_new, y_train_new)"
      ],
      "execution_count": 66,
      "outputs": []
    },
    {
      "cell_type": "markdown",
      "metadata": {
        "id": "kCfUN_pQ84E1"
      },
      "source": [
        "## Question 10\n",
        "\n",
        "Compare the magnitudes of the coefficients for each of the models. If one-vs-rest fitting was used, each set of coefficients can be plotted separately. "
      ]
    },
    {
      "cell_type": "code",
      "metadata": {
        "colab": {
          "base_uri": "https://localhost:8080/",
          "height": 414
        },
        "id": "cQ3KbXIJ84E1",
        "outputId": "3528eaca-e68f-45c9-e3ee-fa8986394eb1"
      },
      "source": [
        "# Combine all the coefficients into a dataframe for comparison\n",
        "coefficients = list()\n",
        "\n",
        "coeff_labels = ['lr', 'l1', 'l2']\n",
        "coeff_models = [lr_new, lr_l1_new, lr_l2_new]\n",
        "\n",
        "for lab,mod in zip(coeff_labels, coeff_models):\n",
        "    coeffs = mod.coef_\n",
        "    coeff_label = pd.MultiIndex(levels=[[lab], [0,1,2,3,4,5]], \n",
        "                                 codes=[[0,0,0,0,0,0], [0,1,2,3,4,5]])\n",
        "    coefficients.append(pd.DataFrame(coeffs.T, columns=coeff_label))\n",
        "\n",
        "coefficients = pd.concat(coefficients, axis=1)\n",
        "\n",
        "coefficients.sample(10)\n",
        "\n"
      ],
      "execution_count": 67,
      "outputs": [
        {
          "output_type": "execute_result",
          "data": {
            "text/html": [
              "<div>\n",
              "<style scoped>\n",
              "    .dataframe tbody tr th:only-of-type {\n",
              "        vertical-align: middle;\n",
              "    }\n",
              "\n",
              "    .dataframe tbody tr th {\n",
              "        vertical-align: top;\n",
              "    }\n",
              "\n",
              "    .dataframe thead tr th {\n",
              "        text-align: left;\n",
              "    }\n",
              "</style>\n",
              "<table border=\"1\" class=\"dataframe\">\n",
              "  <thead>\n",
              "    <tr>\n",
              "      <th></th>\n",
              "      <th colspan=\"6\" halign=\"left\">lr</th>\n",
              "      <th colspan=\"6\" halign=\"left\">l1</th>\n",
              "      <th colspan=\"6\" halign=\"left\">l2</th>\n",
              "    </tr>\n",
              "    <tr>\n",
              "      <th></th>\n",
              "      <th>0</th>\n",
              "      <th>1</th>\n",
              "      <th>2</th>\n",
              "      <th>3</th>\n",
              "      <th>4</th>\n",
              "      <th>5</th>\n",
              "      <th>0</th>\n",
              "      <th>1</th>\n",
              "      <th>2</th>\n",
              "      <th>3</th>\n",
              "      <th>4</th>\n",
              "      <th>5</th>\n",
              "      <th>0</th>\n",
              "      <th>1</th>\n",
              "      <th>2</th>\n",
              "      <th>3</th>\n",
              "      <th>4</th>\n",
              "      <th>5</th>\n",
              "    </tr>\n",
              "  </thead>\n",
              "  <tbody>\n",
              "    <tr>\n",
              "      <th>8</th>\n",
              "      <td>-18.687391</td>\n",
              "      <td>-13.291432</td>\n",
              "      <td>19.186478</td>\n",
              "      <td>13.413334</td>\n",
              "      <td>-3.557745</td>\n",
              "      <td>2.936755</td>\n",
              "      <td>-2.771494</td>\n",
              "      <td>-72.355292</td>\n",
              "      <td>34.566774</td>\n",
              "      <td>7.046317</td>\n",
              "      <td>-2.357837</td>\n",
              "      <td>-6.064049</td>\n",
              "      <td>-12.219210</td>\n",
              "      <td>-47.750206</td>\n",
              "      <td>44.696312</td>\n",
              "      <td>58.625142</td>\n",
              "      <td>-6.828962</td>\n",
              "      <td>-36.523076</td>\n",
              "    </tr>\n",
              "    <tr>\n",
              "      <th>12</th>\n",
              "      <td>0.451687</td>\n",
              "      <td>-2.568404</td>\n",
              "      <td>-7.244119</td>\n",
              "      <td>12.099778</td>\n",
              "      <td>-11.801468</td>\n",
              "      <td>9.062526</td>\n",
              "      <td>0.000000</td>\n",
              "      <td>4.361076</td>\n",
              "      <td>-5.679048</td>\n",
              "      <td>10.153886</td>\n",
              "      <td>-14.093572</td>\n",
              "      <td>9.198321</td>\n",
              "      <td>-1.127848</td>\n",
              "      <td>-2.544465</td>\n",
              "      <td>-9.038068</td>\n",
              "      <td>13.978330</td>\n",
              "      <td>-10.439727</td>\n",
              "      <td>9.171777</td>\n",
              "    </tr>\n",
              "    <tr>\n",
              "      <th>45</th>\n",
              "      <td>-2.559621</td>\n",
              "      <td>0.007221</td>\n",
              "      <td>0.784290</td>\n",
              "      <td>6.649733</td>\n",
              "      <td>-2.625463</td>\n",
              "      <td>-2.256159</td>\n",
              "      <td>0.000000</td>\n",
              "      <td>-0.909496</td>\n",
              "      <td>0.163930</td>\n",
              "      <td>5.495191</td>\n",
              "      <td>-1.527014</td>\n",
              "      <td>-2.249535</td>\n",
              "      <td>-2.102668</td>\n",
              "      <td>-0.314726</td>\n",
              "      <td>0.539352</td>\n",
              "      <td>7.570173</td>\n",
              "      <td>-2.501716</td>\n",
              "      <td>-3.190416</td>\n",
              "    </tr>\n",
              "    <tr>\n",
              "      <th>28</th>\n",
              "      <td>0.197998</td>\n",
              "      <td>-3.961717</td>\n",
              "      <td>1.235860</td>\n",
              "      <td>2.648157</td>\n",
              "      <td>-2.030350</td>\n",
              "      <td>1.910052</td>\n",
              "      <td>0.000000</td>\n",
              "      <td>-5.055174</td>\n",
              "      <td>5.199756</td>\n",
              "      <td>7.659973</td>\n",
              "      <td>0.435652</td>\n",
              "      <td>0.424265</td>\n",
              "      <td>-1.354108</td>\n",
              "      <td>-3.370256</td>\n",
              "      <td>2.172990</td>\n",
              "      <td>3.885002</td>\n",
              "      <td>-1.612785</td>\n",
              "      <td>0.279157</td>\n",
              "    </tr>\n",
              "    <tr>\n",
              "      <th>35</th>\n",
              "      <td>-0.137344</td>\n",
              "      <td>-0.271233</td>\n",
              "      <td>-2.633000</td>\n",
              "      <td>-0.919514</td>\n",
              "      <td>1.594166</td>\n",
              "      <td>2.366926</td>\n",
              "      <td>0.000000</td>\n",
              "      <td>3.189006</td>\n",
              "      <td>-1.486146</td>\n",
              "      <td>-1.220731</td>\n",
              "      <td>-1.564902</td>\n",
              "      <td>-0.577704</td>\n",
              "      <td>1.419463</td>\n",
              "      <td>-0.716961</td>\n",
              "      <td>-3.124341</td>\n",
              "      <td>-0.786029</td>\n",
              "      <td>0.855146</td>\n",
              "      <td>2.352721</td>\n",
              "    </tr>\n",
              "    <tr>\n",
              "      <th>46</th>\n",
              "      <td>-1.175897</td>\n",
              "      <td>1.661708</td>\n",
              "      <td>0.429138</td>\n",
              "      <td>0.402469</td>\n",
              "      <td>4.782574</td>\n",
              "      <td>-6.099992</td>\n",
              "      <td>0.000000</td>\n",
              "      <td>1.133704</td>\n",
              "      <td>-0.474013</td>\n",
              "      <td>0.895080</td>\n",
              "      <td>2.983915</td>\n",
              "      <td>-7.397617</td>\n",
              "      <td>0.164486</td>\n",
              "      <td>2.119054</td>\n",
              "      <td>0.847413</td>\n",
              "      <td>-1.786888</td>\n",
              "      <td>3.849359</td>\n",
              "      <td>-5.193425</td>\n",
              "    </tr>\n",
              "    <tr>\n",
              "      <th>1</th>\n",
              "      <td>-1.773041</td>\n",
              "      <td>0.968777</td>\n",
              "      <td>-1.930239</td>\n",
              "      <td>5.721680</td>\n",
              "      <td>-0.254453</td>\n",
              "      <td>-2.732724</td>\n",
              "      <td>0.000000</td>\n",
              "      <td>6.817749</td>\n",
              "      <td>0.000000</td>\n",
              "      <td>11.061808</td>\n",
              "      <td>-4.310330</td>\n",
              "      <td>-1.075371</td>\n",
              "      <td>0.630440</td>\n",
              "      <td>-1.423469</td>\n",
              "      <td>1.073406</td>\n",
              "      <td>4.952940</td>\n",
              "      <td>-5.119392</td>\n",
              "      <td>-0.113925</td>\n",
              "    </tr>\n",
              "    <tr>\n",
              "      <th>41</th>\n",
              "      <td>-2.062681</td>\n",
              "      <td>3.427964</td>\n",
              "      <td>-0.951089</td>\n",
              "      <td>2.926797</td>\n",
              "      <td>-4.397540</td>\n",
              "      <td>1.056548</td>\n",
              "      <td>0.000000</td>\n",
              "      <td>4.353889</td>\n",
              "      <td>-4.249290</td>\n",
              "      <td>4.406462</td>\n",
              "      <td>-6.246609</td>\n",
              "      <td>2.139452</td>\n",
              "      <td>-3.861802</td>\n",
              "      <td>5.292934</td>\n",
              "      <td>0.621635</td>\n",
              "      <td>3.702880</td>\n",
              "      <td>-5.960326</td>\n",
              "      <td>0.204679</td>\n",
              "    </tr>\n",
              "    <tr>\n",
              "      <th>48</th>\n",
              "      <td>-1.335822</td>\n",
              "      <td>-0.719568</td>\n",
              "      <td>-0.005176</td>\n",
              "      <td>1.015523</td>\n",
              "      <td>0.110230</td>\n",
              "      <td>0.934814</td>\n",
              "      <td>0.000000</td>\n",
              "      <td>-0.643435</td>\n",
              "      <td>0.667686</td>\n",
              "      <td>0.253616</td>\n",
              "      <td>-0.491536</td>\n",
              "      <td>-0.028382</td>\n",
              "      <td>-1.311436</td>\n",
              "      <td>-1.294031</td>\n",
              "      <td>-0.620446</td>\n",
              "      <td>1.510339</td>\n",
              "      <td>0.529935</td>\n",
              "      <td>1.185639</td>\n",
              "    </tr>\n",
              "    <tr>\n",
              "      <th>31</th>\n",
              "      <td>-2.937283</td>\n",
              "      <td>-3.547637</td>\n",
              "      <td>1.083276</td>\n",
              "      <td>0.555782</td>\n",
              "      <td>7.875238</td>\n",
              "      <td>-3.029375</td>\n",
              "      <td>-0.023913</td>\n",
              "      <td>-2.331244</td>\n",
              "      <td>-3.814692</td>\n",
              "      <td>0.211378</td>\n",
              "      <td>9.574337</td>\n",
              "      <td>-2.941286</td>\n",
              "      <td>-0.372480</td>\n",
              "      <td>0.760284</td>\n",
              "      <td>-3.855012</td>\n",
              "      <td>-1.010337</td>\n",
              "      <td>6.997323</td>\n",
              "      <td>-2.519779</td>\n",
              "    </tr>\n",
              "  </tbody>\n",
              "</table>\n",
              "</div>"
            ],
            "text/plain": [
              "           lr                        ...         l2                      \n",
              "            0          1          2  ...          3          4          5\n",
              "8  -18.687391 -13.291432  19.186478  ...  58.625142  -6.828962 -36.523076\n",
              "12   0.451687  -2.568404  -7.244119  ...  13.978330 -10.439727   9.171777\n",
              "45  -2.559621   0.007221   0.784290  ...   7.570173  -2.501716  -3.190416\n",
              "28   0.197998  -3.961717   1.235860  ...   3.885002  -1.612785   0.279157\n",
              "35  -0.137344  -0.271233  -2.633000  ...  -0.786029   0.855146   2.352721\n",
              "46  -1.175897   1.661708   0.429138  ...  -1.786888   3.849359  -5.193425\n",
              "1   -1.773041   0.968777  -1.930239  ...   4.952940  -5.119392  -0.113925\n",
              "41  -2.062681   3.427964  -0.951089  ...   3.702880  -5.960326   0.204679\n",
              "48  -1.335822  -0.719568  -0.005176  ...   1.510339   0.529935   1.185639\n",
              "31  -2.937283  -3.547637   1.083276  ...  -1.010337   6.997323  -2.519779\n",
              "\n",
              "[10 rows x 18 columns]"
            ]
          },
          "metadata": {},
          "execution_count": 67
        }
      ]
    },
    {
      "cell_type": "markdown",
      "metadata": {
        "id": "RkueU20u84E1"
      },
      "source": [
        "Prepare six separate plots for each of the multi-class coefficients."
      ]
    },
    {
      "cell_type": "code",
      "metadata": {
        "colab": {
          "base_uri": "https://localhost:8080/",
          "height": 712
        },
        "id": "yTUbnb6z84E2",
        "outputId": "291b6b42-5bbc-45b0-e06c-97bad3e86340"
      },
      "source": [
        "# try the plots\n",
        "fig, axList = plt.subplots(nrows=3, ncols=2)\n",
        "axList = axList.flatten()\n",
        "fig.set_size_inches(10,10)\n",
        "\n",
        "\n",
        "for ax in enumerate(axList):\n",
        "    loc = ax[0]\n",
        "    ax = ax[1]\n",
        "    \n",
        "    data_aux = coefficients.xs(loc, level=1, axis=1)\n",
        "    data_aux.plot(marker='o', ls='', ms=2.0, ax=ax, legend=False)\n",
        "    \n",
        "    if ax is axList[0]:\n",
        "        ax.legend(loc=4)\n",
        "        \n",
        "    ax.set(title='Coefficient Set '+str(loc))\n",
        "\n",
        "plt.tight_layout()"
      ],
      "execution_count": 68,
      "outputs": [
        {
          "output_type": "display_data",
          "data": {
            "image/png": "[encoded data removed]",
            "text/plain": [
              "<Figure size 720x720 with 6 Axes>"
            ]
          },
          "metadata": {}
        }
      ]
    },
    {
      "cell_type": "markdown",
      "metadata": {
        "id": "dzGSiJ2_84E2"
      },
      "source": [
        "## Question 11\n",
        "\n",
        "* Predict and store the class for each model.\n",
        "* Also store the probability for the predicted class for each model. "
      ]
    },
    {
      "cell_type": "code",
      "metadata": {
        "colab": {
          "base_uri": "https://localhost:8080/",
          "height": 206
        },
        "id": "my3pGpvs84E2",
        "outputId": "ee65b7cd-703a-433d-e73e-3f86994c4d31"
      },
      "source": [
        "# Predict the class and the probability for each\n",
        "y_pred = list()\n",
        "y_prob = list()\n",
        "\n",
        "coeff_labels = ['lr', 'l1', 'l2']\n",
        "coeff_models = [lr_new, lr_l1_new, lr_l2_new]\n",
        "\n",
        "for lab,mod in zip(coeff_labels, coeff_models):\n",
        "    y_pred.append(pd.Series(mod.predict(X_test_new), name=lab))\n",
        "    y_prob.append(pd.Series(mod.predict_proba(X_test_new).max(axis=1), name=lab))\n",
        "    \n",
        "y_pred = pd.concat(y_pred, axis=1)\n",
        "y_prob = pd.concat(y_prob, axis=1)\n",
        "\n",
        "y_pred.head()\n"
      ],
      "execution_count": 69,
      "outputs": [
        {
          "output_type": "execute_result",
          "data": {
            "text/html": [
              "<div>\n",
              "<style scoped>\n",
              "    .dataframe tbody tr th:only-of-type {\n",
              "        vertical-align: middle;\n",
              "    }\n",
              "\n",
              "    .dataframe tbody tr th {\n",
              "        vertical-align: top;\n",
              "    }\n",
              "\n",
              "    .dataframe thead th {\n",
              "        text-align: right;\n",
              "    }\n",
              "</style>\n",
              "<table border=\"1\" class=\"dataframe\">\n",
              "  <thead>\n",
              "    <tr style=\"text-align: right;\">\n",
              "      <th></th>\n",
              "      <th>lr</th>\n",
              "      <th>l1</th>\n",
              "      <th>l2</th>\n",
              "    </tr>\n",
              "  </thead>\n",
              "  <tbody>\n",
              "    <tr>\n",
              "      <th>0</th>\n",
              "      <td>3</td>\n",
              "      <td>3</td>\n",
              "      <td>3</td>\n",
              "    </tr>\n",
              "    <tr>\n",
              "      <th>1</th>\n",
              "      <td>5</td>\n",
              "      <td>5</td>\n",
              "      <td>5</td>\n",
              "    </tr>\n",
              "    <tr>\n",
              "      <th>2</th>\n",
              "      <td>3</td>\n",
              "      <td>3</td>\n",
              "      <td>3</td>\n",
              "    </tr>\n",
              "    <tr>\n",
              "      <th>3</th>\n",
              "      <td>1</td>\n",
              "      <td>1</td>\n",
              "      <td>1</td>\n",
              "    </tr>\n",
              "    <tr>\n",
              "      <th>4</th>\n",
              "      <td>0</td>\n",
              "      <td>0</td>\n",
              "      <td>0</td>\n",
              "    </tr>\n",
              "  </tbody>\n",
              "</table>\n",
              "</div>"
            ],
            "text/plain": [
              "   lr  l1  l2\n",
              "0   3   3   3\n",
              "1   5   5   5\n",
              "2   3   3   3\n",
              "3   1   1   1\n",
              "4   0   0   0"
            ]
          },
          "metadata": {},
          "execution_count": 69
        }
      ]
    },
    {
      "cell_type": "code",
      "metadata": {
        "colab": {
          "base_uri": "https://localhost:8080/",
          "height": 206
        },
        "id": "M9g4fQ2eDt3a",
        "outputId": "ae6461bb-dd20-41bb-8f20-723f3cc8e879"
      },
      "source": [
        "y_prob.head()"
      ],
      "execution_count": 70,
      "outputs": [
        {
          "output_type": "execute_result",
          "data": {
            "text/html": [
              "<div>\n",
              "<style scoped>\n",
              "    .dataframe tbody tr th:only-of-type {\n",
              "        vertical-align: middle;\n",
              "    }\n",
              "\n",
              "    .dataframe tbody tr th {\n",
              "        vertical-align: top;\n",
              "    }\n",
              "\n",
              "    .dataframe thead th {\n",
              "        text-align: right;\n",
              "    }\n",
              "</style>\n",
              "<table border=\"1\" class=\"dataframe\">\n",
              "  <thead>\n",
              "    <tr style=\"text-align: right;\">\n",
              "      <th></th>\n",
              "      <th>lr</th>\n",
              "      <th>l1</th>\n",
              "      <th>l2</th>\n",
              "    </tr>\n",
              "  </thead>\n",
              "  <tbody>\n",
              "    <tr>\n",
              "      <th>0</th>\n",
              "      <td>0.999995</td>\n",
              "      <td>0.997223</td>\n",
              "      <td>0.999998</td>\n",
              "    </tr>\n",
              "    <tr>\n",
              "      <th>1</th>\n",
              "      <td>0.999966</td>\n",
              "      <td>0.998139</td>\n",
              "      <td>0.999868</td>\n",
              "    </tr>\n",
              "    <tr>\n",
              "      <th>2</th>\n",
              "      <td>0.999969</td>\n",
              "      <td>0.986318</td>\n",
              "      <td>0.999995</td>\n",
              "    </tr>\n",
              "    <tr>\n",
              "      <th>3</th>\n",
              "      <td>0.857157</td>\n",
              "      <td>0.870167</td>\n",
              "      <td>0.880112</td>\n",
              "    </tr>\n",
              "    <tr>\n",
              "      <th>4</th>\n",
              "      <td>1.000000</td>\n",
              "      <td>1.000000</td>\n",
              "      <td>0.999999</td>\n",
              "    </tr>\n",
              "  </tbody>\n",
              "</table>\n",
              "</div>"
            ],
            "text/plain": [
              "         lr        l1        l2\n",
              "0  0.999995  0.997223  0.999998\n",
              "1  0.999966  0.998139  0.999868\n",
              "2  0.999969  0.986318  0.999995\n",
              "3  0.857157  0.870167  0.880112\n",
              "4  1.000000  1.000000  0.999999"
            ]
          },
          "metadata": {},
          "execution_count": 70
        }
      ]
    },
    {
      "cell_type": "markdown",
      "metadata": {
        "id": "KE7bOErJ84E2"
      },
      "source": [
        "## Question 12\n",
        "\n",
        "For each model, calculate the following error metrics: \n",
        "\n",
        "* accuracy\n",
        "* precision\n",
        "* recall\n",
        "* fscore\n",
        "* confusion matrix\n",
        "\n",
        "Decide how to combine the multi-class metrics into a single value for each model."
      ]
    },
    {
      "cell_type": "code",
      "metadata": {
        "id": "EwaZB4Cv84E2"
      },
      "source": [
        "# Calculate the error metrics as listed above\n",
        "from sklearn.metrics import precision_recall_fscore_support as score\n",
        "from sklearn.metrics import confusion_matrix, accuracy_score, roc_auc_score\n",
        "from sklearn.preprocessing import label_binarize\n",
        "\n",
        "metrics = list()\n",
        "cm = dict()\n",
        "\n",
        "for lab in coeff_labels:\n",
        "\n",
        "    # Preciision, recall, f-score from the multi-class support function\n",
        "    precision, recall, fscore, _ = score(y_test_new, y_pred[lab], average='weighted')\n",
        "    \n",
        "    # The usual way to calculate accuracy\n",
        "    accuracy = accuracy_score(y_test_new, y_pred[lab])\n",
        "    \n",
        "    # ROC-AUC scores can be calculated by binarizing the data\n",
        "    auc = roc_auc_score(label_binarize(y_test_new, classes=[0,1,2,3,4,5]),\n",
        "              label_binarize(y_pred[lab], classes=[0,1,2,3,4,5]), \n",
        "              average='weighted')\n",
        "    \n",
        "    # Last, the confusion matrix\n",
        "    cm[lab] = confusion_matrix(y_test_new, y_pred[lab])\n",
        "    \n",
        "    metrics.append(pd.Series({'precision':precision, 'recall':recall, \n",
        "                              'fscore':fscore, 'accuracy':accuracy,\n",
        "                              'auc':auc}, \n",
        "                             name=lab))\n",
        "\n",
        "metrics = pd.concat(metrics, axis=1)"
      ],
      "execution_count": 71,
      "outputs": []
    },
    {
      "cell_type": "code",
      "metadata": {
        "colab": {
          "base_uri": "https://localhost:8080/",
          "height": 206
        },
        "id": "yJzcgBCN84E2",
        "outputId": "ae6ae5b5-a031-4654-90c8-8f95506b712b"
      },
      "source": [
        "#Run the metrics\n",
        "metrics"
      ],
      "execution_count": 72,
      "outputs": [
        {
          "output_type": "execute_result",
          "data": {
            "text/html": [
              "<div>\n",
              "<style scoped>\n",
              "    .dataframe tbody tr th:only-of-type {\n",
              "        vertical-align: middle;\n",
              "    }\n",
              "\n",
              "    .dataframe tbody tr th {\n",
              "        vertical-align: top;\n",
              "    }\n",
              "\n",
              "    .dataframe thead th {\n",
              "        text-align: right;\n",
              "    }\n",
              "</style>\n",
              "<table border=\"1\" class=\"dataframe\">\n",
              "  <thead>\n",
              "    <tr style=\"text-align: right;\">\n",
              "      <th></th>\n",
              "      <th>lr</th>\n",
              "      <th>l1</th>\n",
              "      <th>l2</th>\n",
              "    </tr>\n",
              "  </thead>\n",
              "  <tbody>\n",
              "    <tr>\n",
              "      <th>precision</th>\n",
              "      <td>0.935313</td>\n",
              "      <td>0.937318</td>\n",
              "      <td>0.937088</td>\n",
              "    </tr>\n",
              "    <tr>\n",
              "      <th>recall</th>\n",
              "      <td>0.935275</td>\n",
              "      <td>0.937217</td>\n",
              "      <td>0.936893</td>\n",
              "    </tr>\n",
              "    <tr>\n",
              "      <th>fscore</th>\n",
              "      <td>0.935223</td>\n",
              "      <td>0.937219</td>\n",
              "      <td>0.936900</td>\n",
              "    </tr>\n",
              "    <tr>\n",
              "      <th>accuracy</th>\n",
              "      <td>0.935275</td>\n",
              "      <td>0.937217</td>\n",
              "      <td>0.936893</td>\n",
              "    </tr>\n",
              "    <tr>\n",
              "      <th>auc</th>\n",
              "      <td>0.961159</td>\n",
              "      <td>0.962267</td>\n",
              "      <td>0.962177</td>\n",
              "    </tr>\n",
              "  </tbody>\n",
              "</table>\n",
              "</div>"
            ],
            "text/plain": [
              "                 lr        l1        l2\n",
              "precision  0.935313  0.937318  0.937088\n",
              "recall     0.935275  0.937217  0.936893\n",
              "fscore     0.935223  0.937219  0.936900\n",
              "accuracy   0.935275  0.937217  0.936893\n",
              "auc        0.961159  0.962267  0.962177"
            ]
          },
          "metadata": {},
          "execution_count": 72
        }
      ]
    },
    {
      "cell_type": "markdown",
      "metadata": {
        "id": "z4KCD_nL84E2"
      },
      "source": [
        "## Question 13\n",
        "\n",
        "Display or plot the confusion matrix for each model."
      ]
    },
    {
      "cell_type": "code",
      "metadata": {
        "colab": {
          "base_uri": "https://localhost:8080/",
          "height": 712
        },
        "id": "g-Fc38vh84E2",
        "outputId": "0dfc47b9-51ca-4691-b46f-8234a2a3136c"
      },
      "source": [
        "#plot the confusion matrix\n",
        "fig, axList = plt.subplots(nrows=2, ncols=2)\n",
        "axList = axList.flatten()\n",
        "fig.set_size_inches(12, 10)\n",
        "\n",
        "axList[-1].axis('off')\n",
        "\n",
        "for ax,lab in zip(axList[:-1], coeff_labels):\n",
        "    sns.heatmap(cm[lab], ax=ax, annot=True, fmt='d');\n",
        "    ax.set(title=lab);\n",
        "    \n",
        "plt.tight_layout()"
      ],
      "execution_count": 73,
      "outputs": [
        {
          "output_type": "display_data",
          "data": {
            "image/png": "[encoded data removed]",
            "text/plain": [
              "<Figure size 864x720 with 7 Axes>"
            ]
          },
          "metadata": {}
        }
      ]
    },
    {
      "cell_type": "code",
      "metadata": {
        "id": "LE789QwL84E2"
      },
      "source": [
        "# Perform a comparison of the outputs between Question 7 and 12 and give your observation"
      ],
      "execution_count": 74,
      "outputs": []
    },
    {
      "cell_type": "code",
      "metadata": {
        "id": "TZvqX3uR84E3"
      },
      "source": [
        "# Perform a comparison of the outputs between Question 8 and 13 and give your observation"
      ],
      "execution_count": 75,
      "outputs": []
    },
    {
      "cell_type": "code",
      "metadata": {
        "id": "vaR0iJst84E3"
      },
      "source": [
        ""
      ],
      "execution_count": 75,
      "outputs": []
    }
  ]
}