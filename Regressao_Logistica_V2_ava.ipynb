{
  "nbformat": 4,
  "nbformat_minor": 0,
  "metadata": {
    "kernelspec": {
      "display_name": "Python 3",
      "language": "python",
      "name": "python3"
    },
    "language_info": {
      "codemirror_mode": {
        "name": "ipython",
        "version": 3
      },
      "file_extension": ".py",
      "mimetype": "text/x-python",
      "name": "python",
      "nbconvert_exporter": "python",
      "pygments_lexer": "ipython3",
      "version": "3.8.8"
    },
    "colab": {
      "name": "Regressao_Logistica_V2_ava.ipynb",
      "provenance": [],
      "include_colab_link": true
    }
  },
  "cells": [
    {
      "cell_type": "markdown",
      "metadata": {
        "id": "view-in-github",
        "colab_type": "text"
      },
      "source": [
        "<a href=\"https://colab.research.google.com/github/fsluizvictor/metric-errors-logistic-regression/blob/main/Regressao_Logistica_V2_ava.ipynb\" target=\"_parent\"><img src=\"https://colab.research.google.com/assets/colab-badge.svg\" alt=\"Open In Colab\"/></a>"
      ]
    },
    {
      "cell_type": "markdown",
      "metadata": {
        "run_control": {
          "marked": true
        },
        "id": "QRGShm1h84El"
      },
      "source": [
        "#  Logistic Regression and Classification Error Metrics"
      ]
    },
    {
      "cell_type": "markdown",
      "metadata": {
        "run_control": {
          "marked": true
        },
        "id": "hXVQEvhV84En"
      },
      "source": [
        "## Introduction\n",
        "\n",
        "We will be using the [Human Activity Recognition with Smartphones](https://archive.ics.uci.edu/ml/datasets/Human+Activity+Recognition+Using+Smartphones) database, which was built from the recordings of study participants performing activities of daily living (ADL) while carrying a smartphone with an embedded inertial sensors. The objective is to classify activities into one of the six activities (walking, walking upstairs, walking downstairs, sitting, standing, and laying) performed.\n",
        "\n",
        "For each record in the dataset it is provided: \n",
        "\n",
        "- Triaxial acceleration from the accelerometer (total acceleration) and the estimated body acceleration. \n",
        "- Triaxial Angular velocity from the gyroscope. \n",
        "- A 561-feature vector with time and frequency domain variables. \n",
        "- Its activity label. \n",
        "\n",
        "More information about the features is available on the website: above or at https://www.kaggle.com/uciml/human-activity-recognition-with-smartphones "
      ]
    },
    {
      "cell_type": "code",
      "metadata": {
        "run_control": {
          "marked": true
        },
        "id": "ckKV7dQb84Eo"
      },
      "source": [
        "from __future__ import print_function\n",
        "import os\n",
        "#Data Path has to be set as per the file location in your system\n",
        "#data_path = ['..', 'data']\n",
        "data_path = ['/content/drive/MyDrive/Engenharia de Computação/Oitavo Período/Disciplina Obrigatória/Inteligencia Computacional/datasets']"
      ],
      "execution_count": 6,
      "outputs": []
    },
    {
      "cell_type": "markdown",
      "metadata": {
        "run_control": {
          "marked": true
        },
        "id": "ZxMQivQZ84Ep"
      },
      "source": [
        "## Question 1\n",
        "\n",
        "Import the data and do the following:\n",
        "\n",
        "* Examine the data types--there are many columns, so it might be wise to use value counts\n",
        "* Determine if the floating point values need to be scaled\n",
        "* Determine the breakdown of each activity\n",
        "* Encode the activity label as an integer"
      ]
    },
    {
      "cell_type": "code",
      "metadata": {
        "run_control": {
          "marked": true
        },
        "id": "w6WfU5M784Eq"
      },
      "source": [
        "import pandas as pd\n",
        "import numpy as np\n",
        "#The filepath is dependent on the data_path set in the previous cell \n",
        "filepath = os.sep.join(data_path + ['Human_Activity_Recognition_Using_Smartphones_Data.csv'])\n",
        "data = pd.read_csv(filepath, sep=',')"
      ],
      "execution_count": 7,
      "outputs": []
    },
    {
      "cell_type": "markdown",
      "metadata": {
        "run_control": {
          "marked": true
        },
        "id": "yjckkt7N84Eq"
      },
      "source": [
        "The data columns are all floats except for the activity label."
      ]
    },
    {
      "cell_type": "code",
      "metadata": {
        "run_control": {
          "marked": true
        },
        "colab": {
          "base_uri": "https://localhost:8080/"
        },
        "id": "1Y2g1B9-84Er",
        "outputId": "fe9ffbc2-5522-4764-90cb-266ddb444339"
      },
      "source": [
        "data.dtypes.value_counts()"
      ],
      "execution_count": 8,
      "outputs": [
        {
          "output_type": "execute_result",
          "data": {
            "text/plain": [
              "float64    561\n",
              "object       1\n",
              "dtype: int64"
            ]
          },
          "metadata": {},
          "execution_count": 8
        }
      ]
    },
    {
      "cell_type": "code",
      "metadata": {
        "run_control": {
          "marked": true
        },
        "colab": {
          "base_uri": "https://localhost:8080/"
        },
        "id": "qWyf2qU084Es",
        "outputId": "be267a05-9b6e-4dfe-8251-832ff6f00a31"
      },
      "source": [
        "data.dtypes.tail()"
      ],
      "execution_count": 9,
      "outputs": [
        {
          "output_type": "execute_result",
          "data": {
            "text/plain": [
              "angle(tBodyGyroJerkMean,gravityMean)    float64\n",
              "angle(X,gravityMean)                    float64\n",
              "angle(Y,gravityMean)                    float64\n",
              "angle(Z,gravityMean)                    float64\n",
              "Activity                                 object\n",
              "dtype: object"
            ]
          },
          "metadata": {},
          "execution_count": 9
        }
      ]
    },
    {
      "cell_type": "markdown",
      "metadata": {
        "run_control": {
          "marked": true
        },
        "id": "eu1ve5CI84Et"
      },
      "source": [
        "The data are all scaled from -1 (minimum) to 1.0 (maximum)."
      ]
    },
    {
      "cell_type": "code",
      "metadata": {
        "run_control": {
          "marked": true
        },
        "colab": {
          "base_uri": "https://localhost:8080/"
        },
        "id": "1-mevrMX84Et",
        "outputId": "a97e8a72-12a4-47e1-faa0-6cc426dcc66e"
      },
      "source": [
        "data.iloc[:, :-1].min().value_counts()"
      ],
      "execution_count": 10,
      "outputs": [
        {
          "output_type": "execute_result",
          "data": {
            "text/plain": [
              "-1.0    561\n",
              "dtype: int64"
            ]
          },
          "metadata": {},
          "execution_count": 10
        }
      ]
    },
    {
      "cell_type": "code",
      "metadata": {
        "run_control": {
          "marked": true
        },
        "colab": {
          "base_uri": "https://localhost:8080/"
        },
        "id": "Ps_RISno84Eu",
        "outputId": "fa7e2be6-d1bd-4049-97f7-8efd8a8793c6"
      },
      "source": [
        "data.iloc[:, :-1].max().value_counts()"
      ],
      "execution_count": 11,
      "outputs": [
        {
          "output_type": "execute_result",
          "data": {
            "text/plain": [
              "1.0    561\n",
              "dtype: int64"
            ]
          },
          "metadata": {},
          "execution_count": 11
        }
      ]
    },
    {
      "cell_type": "markdown",
      "metadata": {
        "id": "E9AN1tP284Eu"
      },
      "source": [
        "Examine the breakdown of activities--they are relatively balanced."
      ]
    },
    {
      "cell_type": "code",
      "metadata": {
        "colab": {
          "base_uri": "https://localhost:8080/"
        },
        "id": "flTedR2i84Eu",
        "outputId": "f971457f-c1ed-400c-c711-5d2d0730170e"
      },
      "source": [
        "data.Activity.value_counts()"
      ],
      "execution_count": 12,
      "outputs": [
        {
          "output_type": "execute_result",
          "data": {
            "text/plain": [
              "LAYING                1944\n",
              "STANDING              1906\n",
              "SITTING               1777\n",
              "WALKING               1722\n",
              "WALKING_UPSTAIRS      1544\n",
              "WALKING_DOWNSTAIRS    1406\n",
              "Name: Activity, dtype: int64"
            ]
          },
          "metadata": {},
          "execution_count": 12
        }
      ]
    },
    {
      "cell_type": "markdown",
      "metadata": {
        "id": "wUb6vNR484Ev"
      },
      "source": [
        "Scikit learn classifiers won't accept a sparse matrix for the prediction column. Thus, either `LabelEncoder` needs to be used to convert the activity labels to integers, or if `DictVectorizer` is used, the resulting matrix must be converted to a non-sparse array.  \n",
        "Use `LabelEncoder` to fit_transform the \"Activity\" column, and look at 5 random values."
      ]
    },
    {
      "cell_type": "code",
      "metadata": {
        "colab": {
          "base_uri": "https://localhost:8080/"
        },
        "id": "rY_V0mjk84Ev",
        "outputId": "f69a45f4-a673-4d16-d812-6bfe6bff2bcd"
      },
      "source": [
        "from sklearn.preprocessing import LabelEncoder\n",
        "\n",
        "le = LabelEncoder()\n",
        "data['Activity'] = le.fit_transform(data.Activity)\n",
        "data['Activity'].sample(5)"
      ],
      "execution_count": 13,
      "outputs": [
        {
          "output_type": "execute_result",
          "data": {
            "text/plain": [
              "1215    0\n",
              "1121    4\n",
              "3119    1\n",
              "4321    3\n",
              "833     5\n",
              "Name: Activity, dtype: int64"
            ]
          },
          "metadata": {},
          "execution_count": 13
        }
      ]
    },
    {
      "cell_type": "markdown",
      "metadata": {
        "id": "wt3Xyr5c84Ev"
      },
      "source": [
        "## Question 2\n",
        "\n",
        "* Calculate the correlations between the dependent variables.\n",
        "* Create a histogram of the correlation values\n",
        "* Identify those that are most correlated (either positively or negatively)."
      ]
    },
    {
      "cell_type": "code",
      "metadata": {
        "id": "hAaIlK_n84Ew"
      },
      "source": [
        "# Calculate the correlation values\n",
        "feature_cols = data.columns[:-1]\n",
        "corr_values = data[feature_cols].corr()\n",
        "\n",
        "# Simplify by emptying all the data below the diagonal\n",
        "tril_index = np.tril_indices_from(corr_values)\n",
        "\n",
        "# Make the unused values NaNs\n",
        "for coord in zip(*tril_index):\n",
        "    corr_values.iloc[coord[0], coord[1]] = np.NaN\n",
        "    \n",
        "# Stack the data and convert to a data frame\n",
        "corr_values = (corr_values.stack().to_frame().reset_index().rename(columns={'level_0':'feature1','level_1':'feature2',0:'correlation'}))\n",
        "\n",
        "# Get the absolute values for sorting\n",
        "corr_values['abs_correlation'] = corr_values.correlation.abs()"
      ],
      "execution_count": 14,
      "outputs": []
    },
    {
      "cell_type": "markdown",
      "metadata": {
        "id": "E98YtzbA84Ew"
      },
      "source": [
        "A histogram of the absolute value correlations."
      ]
    },
    {
      "cell_type": "code",
      "metadata": {
        "id": "W0njkHMl84Ew"
      },
      "source": [
        "import matplotlib.pyplot as plt\n",
        "import seaborn as sns\n",
        "%matplotlib inline"
      ],
      "execution_count": 15,
      "outputs": []
    },
    {
      "cell_type": "code",
      "metadata": {
        "colab": {
          "base_uri": "https://localhost:8080/",
          "height": 308
        },
        "id": "R0itGPTW84Ew",
        "outputId": "5f5e00e0-70b8-40cb-acfe-f08b81c801fe"
      },
      "source": [
        "sns.set_context('talk')\n",
        "sns.set_style('white')\n",
        "sns.set_palette('dark')\n",
        "\n",
        "ax = corr_values.abs_correlation.hist(bins=50)\n",
        "\n",
        "ax.set(xlabel='Absolute Correlation', ylabel='Frequency');"
      ],
      "execution_count": 16,
      "outputs": [
        {
          "output_type": "display_data",
          "data": {
            "image/png": "[encoded data removed]",
            "text/plain": [
              "<Figure size 432x288 with 1 Axes>"
            ]
          },
          "metadata": {}
        }
      ]
    },
    {
      "cell_type": "code",
      "metadata": {
        "colab": {
          "base_uri": "https://localhost:8080/",
          "height": 424
        },
        "id": "zvekh1d584Ex",
        "outputId": "b496e85c-0545-45ce-d75e-339413f66b2a"
      },
      "source": [
        "# The most highly correlated values\n",
        "corr_values.sort_values('correlation', ascending=False).query('abs_correlation>0.8')"
      ],
      "execution_count": 17,
      "outputs": [
        {
          "output_type": "execute_result",
          "data": {
            "text/html": [
              "<div>\n",
              "<style scoped>\n",
              "    .dataframe tbody tr th:only-of-type {\n",
              "        vertical-align: middle;\n",
              "    }\n",
              "\n",
              "    .dataframe tbody tr th {\n",
              "        vertical-align: top;\n",
              "    }\n",
              "\n",
              "    .dataframe thead th {\n",
              "        text-align: right;\n",
              "    }\n",
              "</style>\n",
              "<table border=\"1\" class=\"dataframe\">\n",
              "  <thead>\n",
              "    <tr style=\"text-align: right;\">\n",
              "      <th></th>\n",
              "      <th>feature1</th>\n",
              "      <th>feature2</th>\n",
              "      <th>correlation</th>\n",
              "      <th>abs_correlation</th>\n",
              "    </tr>\n",
              "  </thead>\n",
              "  <tbody>\n",
              "    <tr>\n",
              "      <th>156894</th>\n",
              "      <td>fBodyBodyGyroJerkMag-mean()</td>\n",
              "      <td>fBodyBodyGyroJerkMag-sma()</td>\n",
              "      <td>1.000000</td>\n",
              "      <td>1.000000</td>\n",
              "    </tr>\n",
              "    <tr>\n",
              "      <th>93902</th>\n",
              "      <td>tBodyAccMag-sma()</td>\n",
              "      <td>tGravityAccMag-sma()</td>\n",
              "      <td>1.000000</td>\n",
              "      <td>1.000000</td>\n",
              "    </tr>\n",
              "    <tr>\n",
              "      <th>101139</th>\n",
              "      <td>tBodyAccJerkMag-mean()</td>\n",
              "      <td>tBodyAccJerkMag-sma()</td>\n",
              "      <td>1.000000</td>\n",
              "      <td>1.000000</td>\n",
              "    </tr>\n",
              "    <tr>\n",
              "      <th>96706</th>\n",
              "      <td>tGravityAccMag-mean()</td>\n",
              "      <td>tGravityAccMag-sma()</td>\n",
              "      <td>1.000000</td>\n",
              "      <td>1.000000</td>\n",
              "    </tr>\n",
              "    <tr>\n",
              "      <th>94257</th>\n",
              "      <td>tBodyAccMag-energy()</td>\n",
              "      <td>tGravityAccMag-energy()</td>\n",
              "      <td>1.000000</td>\n",
              "      <td>1.000000</td>\n",
              "    </tr>\n",
              "    <tr>\n",
              "      <th>...</th>\n",
              "      <td>...</td>\n",
              "      <td>...</td>\n",
              "      <td>...</td>\n",
              "      <td>...</td>\n",
              "    </tr>\n",
              "    <tr>\n",
              "      <th>22657</th>\n",
              "      <td>tGravityAcc-mean()-Y</td>\n",
              "      <td>angle(Y,gravityMean)</td>\n",
              "      <td>-0.993425</td>\n",
              "      <td>0.993425</td>\n",
              "    </tr>\n",
              "    <tr>\n",
              "      <th>39225</th>\n",
              "      <td>tGravityAcc-arCoeff()-Z,3</td>\n",
              "      <td>tGravityAcc-arCoeff()-Z,4</td>\n",
              "      <td>-0.994267</td>\n",
              "      <td>0.994267</td>\n",
              "    </tr>\n",
              "    <tr>\n",
              "      <th>38739</th>\n",
              "      <td>tGravityAcc-arCoeff()-Z,2</td>\n",
              "      <td>tGravityAcc-arCoeff()-Z,3</td>\n",
              "      <td>-0.994628</td>\n",
              "      <td>0.994628</td>\n",
              "    </tr>\n",
              "    <tr>\n",
              "      <th>23176</th>\n",
              "      <td>tGravityAcc-mean()-Z</td>\n",
              "      <td>angle(Z,gravityMean)</td>\n",
              "      <td>-0.994764</td>\n",
              "      <td>0.994764</td>\n",
              "    </tr>\n",
              "    <tr>\n",
              "      <th>38252</th>\n",
              "      <td>tGravityAcc-arCoeff()-Z,1</td>\n",
              "      <td>tGravityAcc-arCoeff()-Z,2</td>\n",
              "      <td>-0.995195</td>\n",
              "      <td>0.995195</td>\n",
              "    </tr>\n",
              "  </tbody>\n",
              "</table>\n",
              "<p>22815 rows × 4 columns</p>\n",
              "</div>"
            ],
            "text/plain": [
              "                           feature1  ... abs_correlation\n",
              "156894  fBodyBodyGyroJerkMag-mean()  ...        1.000000\n",
              "93902             tBodyAccMag-sma()  ...        1.000000\n",
              "101139       tBodyAccJerkMag-mean()  ...        1.000000\n",
              "96706         tGravityAccMag-mean()  ...        1.000000\n",
              "94257          tBodyAccMag-energy()  ...        1.000000\n",
              "...                             ...  ...             ...\n",
              "22657          tGravityAcc-mean()-Y  ...        0.993425\n",
              "39225     tGravityAcc-arCoeff()-Z,3  ...        0.994267\n",
              "38739     tGravityAcc-arCoeff()-Z,2  ...        0.994628\n",
              "23176          tGravityAcc-mean()-Z  ...        0.994764\n",
              "38252     tGravityAcc-arCoeff()-Z,1  ...        0.995195\n",
              "\n",
              "[22815 rows x 4 columns]"
            ]
          },
          "metadata": {},
          "execution_count": 17
        }
      ]
    },
    {
      "cell_type": "markdown",
      "metadata": {
        "id": "MNYogktk84Ex"
      },
      "source": [
        "## Question 3\n",
        "\n",
        "* Split the data into train and test data sets. This can be done using any method, but consider using Scikit-learn's `StratifiedShuffleSplit` to maintain the same ratio of predictor classes.\n",
        "* Regardless of methods used to split the data, compare the ratio of classes in both the train and test splits.\n"
      ]
    },
    {
      "cell_type": "code",
      "metadata": {
        "id": "rX-GAXjN84Ex"
      },
      "source": [
        "from sklearn.model_selection import StratifiedShuffleSplit\n",
        "\n",
        "# Get the split indexes\n",
        "strat_shuf_split = StratifiedShuffleSplit(n_splits=1,test_size=0.3, random_state=42)\n",
        "\n",
        "train_idx, test_idx = next(strat_shuf_split.split(data[feature_cols], data.Activity))\n",
        "\n",
        "# Create the dataframes\n",
        "X_train = data.loc[train_idx, feature_cols]\n",
        "y_train = data.loc[train_idx, 'Activity']\n",
        "\n",
        "X_test  = data.loc[test_idx, feature_cols]\n",
        "y_test  = data.loc[test_idx, 'Activity']\n"
      ],
      "execution_count": 18,
      "outputs": []
    },
    {
      "cell_type": "code",
      "metadata": {
        "colab": {
          "base_uri": "https://localhost:8080/"
        },
        "id": "hjrxB6pB84Ex",
        "outputId": "fb12f113-f745-4306-b8fb-57d8958c41bf"
      },
      "source": [
        "y_train.value_counts(normalize=True)"
      ],
      "execution_count": 19,
      "outputs": [
        {
          "output_type": "execute_result",
          "data": {
            "text/plain": [
              "0    0.188792\n",
              "2    0.185046\n",
              "1    0.172562\n",
              "3    0.167152\n",
              "5    0.149951\n",
              "4    0.136496\n",
              "Name: Activity, dtype: float64"
            ]
          },
          "metadata": {},
          "execution_count": 19
        }
      ]
    },
    {
      "cell_type": "code",
      "metadata": {
        "colab": {
          "base_uri": "https://localhost:8080/"
        },
        "id": "xjvCoTFO84Ey",
        "outputId": "e44d7210-e842-444e-96c7-aa3c719a8be6"
      },
      "source": [
        "y_test.value_counts(normalize=True)"
      ],
      "execution_count": 20,
      "outputs": [
        {
          "output_type": "execute_result",
          "data": {
            "text/plain": [
              "0    0.188673\n",
              "2    0.185113\n",
              "1    0.172492\n",
              "3    0.167314\n",
              "5    0.149838\n",
              "4    0.136570\n",
              "Name: Activity, dtype: float64"
            ]
          },
          "metadata": {},
          "execution_count": 20
        }
      ]
    },
    {
      "cell_type": "markdown",
      "metadata": {
        "id": "9xW2kse784Ey"
      },
      "source": [
        "## Question 4\n",
        "\n",
        "* Fit a logistic regression model without any regularization using all of the features. Be sure to read the documentation about fitting a multi-class model so you understand the coefficient output. Store the model.\n",
        "* Using cross validation to determine the hyperparameters, fit models using L1, and L2 regularization. Store each of these models as well. Note the limitations on multi-class models, solvers, and regularizations. The regularized models, in particular the L1 model, will probably take a while to fit."
      ]
    },
    {
      "cell_type": "code",
      "metadata": {
        "colab": {
          "base_uri": "https://localhost:8080/"
        },
        "id": "gK5muLzt84Ey",
        "outputId": "34d5fbc2-b648-4112-aea6-59187f9bb570"
      },
      "source": [
        "from sklearn.linear_model import LogisticRegression\n",
        "\n",
        "# Standard logistic regression\n",
        "lr = LogisticRegression(max_iter=500, penalty='none').fit(X_train, y_train)\n",
        "lr.coef_"
      ],
      "execution_count": 21,
      "outputs": [
        {
          "output_type": "execute_result",
          "data": {
            "text/plain": [
              "array([[-3.35464206e+02,  5.93750445e+01,  7.40667217e+01, ...,\n",
              "         3.35192628e+03, -1.30168309e+03, -4.38578212e+02],\n",
              "       [-1.09098975e+03, -4.34523451e+02,  1.24617726e+02, ...,\n",
              "        -3.85868442e+02, -5.73130691e+02, -3.24525360e+02],\n",
              "       [ 4.76881232e+02,  3.47273049e+02,  3.63756576e+02, ...,\n",
              "        -1.37092939e+03,  1.02696588e+03,  1.08214824e+02],\n",
              "       [ 6.63781201e+00, -7.42987897e+01,  1.20830153e+01, ...,\n",
              "        -6.27987055e+02,  8.51920167e+01,  3.01993398e+02],\n",
              "       [ 6.80405044e+02,  1.46328598e+02,  7.07215595e-01, ...,\n",
              "        -1.18886230e+03, -6.95489952e+01, -5.94605599e+01],\n",
              "       [ 2.62529865e+02, -4.41544507e+01, -5.75231255e+02, ...,\n",
              "         2.21720900e+02,  8.32204874e+02,  4.12355910e+02]])"
            ]
          },
          "metadata": {},
          "execution_count": 21
        }
      ]
    },
    {
      "cell_type": "code",
      "metadata": {
        "id": "82g2yIcM84Ey"
      },
      "source": [
        "from sklearn.linear_model import LogisticRegressionCV\n",
        "\n",
        "# L1 regularized logistic regression\n",
        "lr_l1 = LogisticRegressionCV(Cs=10, cv=4, penalty='l1', solver='liblinear').fit(X_train, y_train)"
      ],
      "execution_count": 22,
      "outputs": []
    },
    {
      "cell_type": "code",
      "metadata": {
        "id": "PImGYLgB84Ey"
      },
      "source": [
        "#Try with different solvers like ‘newton-cg’, ‘lbfgs’, ‘sag’, ‘saga’ and give your observations"
      ],
      "execution_count": 23,
      "outputs": []
    },
    {
      "cell_type": "code",
      "metadata": {
        "id": "EhEQ71fM84Ez"
      },
      "source": [
        "# L2 regularized logistic regression\n",
        "lr_l2 = LogisticRegressionCV(Cs=10, cv=4, penalty='l2', max_iter=10000).fit(X_train, y_train)"
      ],
      "execution_count": 24,
      "outputs": []
    },
    {
      "cell_type": "markdown",
      "metadata": {
        "id": "3_1Az1JF84Ez"
      },
      "source": [
        "## Question 5\n",
        "\n",
        "Compare the magnitudes of the coefficients for each of the models. If one-vs-rest fitting was used, each set of coefficients can be plotted separately. "
      ]
    },
    {
      "cell_type": "code",
      "metadata": {
        "colab": {
          "base_uri": "https://localhost:8080/",
          "height": 394
        },
        "id": "2MlqhmLG84Ez",
        "outputId": "6398efdd-0487-4292-f9fc-8de48145ee60"
      },
      "source": [
        "# Combine all the coefficients into a dataframe\n",
        "coefficients = list()\n",
        "\n",
        "coeff_labels = ['lr', 'l1', 'l2']\n",
        "coeff_models = [lr, lr_l1, lr_l2]\n",
        "\n",
        "#for lab,mod in zip(coeff_labels, coeff_models):\n",
        "#    coeffs = mod.coef_\n",
        "#    levels=[[lab], [0,1,2,3,4,5]]\n",
        "#    labels=[[0,0,0,0,0,0], [0,1,2,3,4,5]]\n",
        "#    coeff_label = pd.MultiIndex(levels,labels)\n",
        "#    coefficients.append(pd.DataFrame(coeffs.T, columns=coeff_label))\n",
        "\n",
        "for lab,mod in zip(coeff_labels, coeff_models):\n",
        "    coeffs = mod.coef_\n",
        "    coeff_label = pd.MultiIndex(levels=[[lab], [0,1,2,3,4,5]], \n",
        "                                 codes=[[0,0,0,0,0,0], [0,1,2,3,4,5]])\n",
        "    coefficients.append(pd.DataFrame(coeffs.T, columns=coeff_label))\n",
        "\n",
        "coefficients = pd.concat(coefficients, axis=1)\n",
        "\n",
        "coefficients.sample(10)\n",
        "\n"
      ],
      "execution_count": 25,
      "outputs": [
        {
          "output_type": "execute_result",
          "data": {
            "text/html": [
              "<div>\n",
              "<style scoped>\n",
              "    .dataframe tbody tr th:only-of-type {\n",
              "        vertical-align: middle;\n",
              "    }\n",
              "\n",
              "    .dataframe tbody tr th {\n",
              "        vertical-align: top;\n",
              "    }\n",
              "\n",
              "    .dataframe thead tr th {\n",
              "        text-align: left;\n",
              "    }\n",
              "</style>\n",
              "<table border=\"1\" class=\"dataframe\">\n",
              "  <thead>\n",
              "    <tr>\n",
              "      <th></th>\n",
              "      <th colspan=\"6\" halign=\"left\">lr</th>\n",
              "      <th colspan=\"6\" halign=\"left\">l1</th>\n",
              "      <th colspan=\"6\" halign=\"left\">l2</th>\n",
              "    </tr>\n",
              "    <tr>\n",
              "      <th></th>\n",
              "      <th>0</th>\n",
              "      <th>1</th>\n",
              "      <th>2</th>\n",
              "      <th>3</th>\n",
              "      <th>4</th>\n",
              "      <th>5</th>\n",
              "      <th>0</th>\n",
              "      <th>1</th>\n",
              "      <th>2</th>\n",
              "      <th>3</th>\n",
              "      <th>4</th>\n",
              "      <th>5</th>\n",
              "      <th>0</th>\n",
              "      <th>1</th>\n",
              "      <th>2</th>\n",
              "      <th>3</th>\n",
              "      <th>4</th>\n",
              "      <th>5</th>\n",
              "    </tr>\n",
              "  </thead>\n",
              "  <tbody>\n",
              "    <tr>\n",
              "      <th>69</th>\n",
              "      <td>293.007492</td>\n",
              "      <td>-532.851557</td>\n",
              "      <td>12.483106</td>\n",
              "      <td>723.009803</td>\n",
              "      <td>235.005896</td>\n",
              "      <td>-730.654740</td>\n",
              "      <td>0.000000</td>\n",
              "      <td>0.000000</td>\n",
              "      <td>0.000000</td>\n",
              "      <td>2.439467</td>\n",
              "      <td>-0.071354</td>\n",
              "      <td>-1.855472</td>\n",
              "      <td>0.188292</td>\n",
              "      <td>-0.151237</td>\n",
              "      <td>-0.067230</td>\n",
              "      <td>0.561031</td>\n",
              "      <td>0.099509</td>\n",
              "      <td>-0.630365</td>\n",
              "    </tr>\n",
              "    <tr>\n",
              "      <th>107</th>\n",
              "      <td>89.682544</td>\n",
              "      <td>15.787561</td>\n",
              "      <td>-45.007085</td>\n",
              "      <td>248.274996</td>\n",
              "      <td>49.971016</td>\n",
              "      <td>-358.709031</td>\n",
              "      <td>0.000000</td>\n",
              "      <td>0.165574</td>\n",
              "      <td>-0.756160</td>\n",
              "      <td>-1.230619</td>\n",
              "      <td>-1.844269</td>\n",
              "      <td>-1.392613</td>\n",
              "      <td>-0.043977</td>\n",
              "      <td>0.117652</td>\n",
              "      <td>0.045309</td>\n",
              "      <td>0.110622</td>\n",
              "      <td>-0.074139</td>\n",
              "      <td>-0.155467</td>\n",
              "    </tr>\n",
              "    <tr>\n",
              "      <th>157</th>\n",
              "      <td>-548.975282</td>\n",
              "      <td>184.602912</td>\n",
              "      <td>759.901245</td>\n",
              "      <td>-1662.857561</td>\n",
              "      <td>-845.314643</td>\n",
              "      <td>2112.643329</td>\n",
              "      <td>-1.259369</td>\n",
              "      <td>-0.739293</td>\n",
              "      <td>0.677197</td>\n",
              "      <td>-4.072478</td>\n",
              "      <td>-0.159038</td>\n",
              "      <td>6.160557</td>\n",
              "      <td>-0.351220</td>\n",
              "      <td>-0.036883</td>\n",
              "      <td>0.710313</td>\n",
              "      <td>-1.304782</td>\n",
              "      <td>-0.308109</td>\n",
              "      <td>1.290681</td>\n",
              "    </tr>\n",
              "    <tr>\n",
              "      <th>143</th>\n",
              "      <td>-557.337283</td>\n",
              "      <td>-27.162119</td>\n",
              "      <td>-168.465225</td>\n",
              "      <td>-495.167957</td>\n",
              "      <td>798.577309</td>\n",
              "      <td>449.555275</td>\n",
              "      <td>-0.086785</td>\n",
              "      <td>-0.712228</td>\n",
              "      <td>0.122851</td>\n",
              "      <td>-3.142677</td>\n",
              "      <td>3.433041</td>\n",
              "      <td>0.000000</td>\n",
              "      <td>-0.191979</td>\n",
              "      <td>-0.018610</td>\n",
              "      <td>0.260764</td>\n",
              "      <td>-0.667706</td>\n",
              "      <td>0.509743</td>\n",
              "      <td>0.107788</td>\n",
              "    </tr>\n",
              "    <tr>\n",
              "      <th>20</th>\n",
              "      <td>-221.286191</td>\n",
              "      <td>-445.194874</td>\n",
              "      <td>-48.663117</td>\n",
              "      <td>347.770296</td>\n",
              "      <td>-107.707898</td>\n",
              "      <td>475.081783</td>\n",
              "      <td>0.000000</td>\n",
              "      <td>0.000000</td>\n",
              "      <td>0.000000</td>\n",
              "      <td>0.301452</td>\n",
              "      <td>0.000000</td>\n",
              "      <td>-0.380837</td>\n",
              "      <td>-0.013301</td>\n",
              "      <td>-0.039026</td>\n",
              "      <td>-0.005775</td>\n",
              "      <td>0.092568</td>\n",
              "      <td>-0.190718</td>\n",
              "      <td>0.156251</td>\n",
              "    </tr>\n",
              "    <tr>\n",
              "      <th>436</th>\n",
              "      <td>35.973867</td>\n",
              "      <td>599.607075</td>\n",
              "      <td>-271.188522</td>\n",
              "      <td>116.144371</td>\n",
              "      <td>-515.839792</td>\n",
              "      <td>35.303002</td>\n",
              "      <td>0.000000</td>\n",
              "      <td>1.888051</td>\n",
              "      <td>0.000000</td>\n",
              "      <td>0.299012</td>\n",
              "      <td>-0.153274</td>\n",
              "      <td>0.189226</td>\n",
              "      <td>-0.007223</td>\n",
              "      <td>0.457501</td>\n",
              "      <td>-0.468869</td>\n",
              "      <td>0.207038</td>\n",
              "      <td>-0.185372</td>\n",
              "      <td>-0.003074</td>\n",
              "    </tr>\n",
              "    <tr>\n",
              "      <th>251</th>\n",
              "      <td>-75.859136</td>\n",
              "      <td>505.465459</td>\n",
              "      <td>-342.863016</td>\n",
              "      <td>402.605625</td>\n",
              "      <td>-512.035038</td>\n",
              "      <td>22.686106</td>\n",
              "      <td>0.000000</td>\n",
              "      <td>0.708240</td>\n",
              "      <td>-0.615140</td>\n",
              "      <td>3.493533</td>\n",
              "      <td>-1.846643</td>\n",
              "      <td>-0.869814</td>\n",
              "      <td>-0.095538</td>\n",
              "      <td>0.603336</td>\n",
              "      <td>-0.381175</td>\n",
              "      <td>0.313938</td>\n",
              "      <td>-0.268734</td>\n",
              "      <td>-0.171826</td>\n",
              "    </tr>\n",
              "    <tr>\n",
              "      <th>262</th>\n",
              "      <td>-72.113013</td>\n",
              "      <td>213.549385</td>\n",
              "      <td>-118.491783</td>\n",
              "      <td>131.194036</td>\n",
              "      <td>406.212158</td>\n",
              "      <td>-560.350784</td>\n",
              "      <td>0.000000</td>\n",
              "      <td>0.000000</td>\n",
              "      <td>0.000000</td>\n",
              "      <td>-0.032046</td>\n",
              "      <td>0.881271</td>\n",
              "      <td>0.000000</td>\n",
              "      <td>-0.090370</td>\n",
              "      <td>0.191915</td>\n",
              "      <td>-0.119031</td>\n",
              "      <td>0.037071</td>\n",
              "      <td>0.249549</td>\n",
              "      <td>-0.269135</td>\n",
              "    </tr>\n",
              "    <tr>\n",
              "      <th>108</th>\n",
              "      <td>-272.542307</td>\n",
              "      <td>-718.100330</td>\n",
              "      <td>1301.692712</td>\n",
              "      <td>303.052941</td>\n",
              "      <td>-953.900383</td>\n",
              "      <td>339.797367</td>\n",
              "      <td>0.000000</td>\n",
              "      <td>-0.531665</td>\n",
              "      <td>0.002306</td>\n",
              "      <td>3.071415</td>\n",
              "      <td>-4.645142</td>\n",
              "      <td>-0.586134</td>\n",
              "      <td>-0.075756</td>\n",
              "      <td>-0.237476</td>\n",
              "      <td>0.471883</td>\n",
              "      <td>0.363216</td>\n",
              "      <td>-0.594977</td>\n",
              "      <td>0.073109</td>\n",
              "    </tr>\n",
              "    <tr>\n",
              "      <th>477</th>\n",
              "      <td>74.855656</td>\n",
              "      <td>167.814498</td>\n",
              "      <td>325.128415</td>\n",
              "      <td>-444.404059</td>\n",
              "      <td>133.389999</td>\n",
              "      <td>-256.784509</td>\n",
              "      <td>0.000000</td>\n",
              "      <td>0.371697</td>\n",
              "      <td>0.142505</td>\n",
              "      <td>-0.138270</td>\n",
              "      <td>0.158975</td>\n",
              "      <td>0.324817</td>\n",
              "      <td>-0.013772</td>\n",
              "      <td>-0.009750</td>\n",
              "      <td>0.017420</td>\n",
              "      <td>-0.200113</td>\n",
              "      <td>0.220453</td>\n",
              "      <td>-0.014237</td>\n",
              "    </tr>\n",
              "  </tbody>\n",
              "</table>\n",
              "</div>"
            ],
            "text/plain": [
              "             lr                           ...        l2                    \n",
              "              0           1            2  ...         3         4         5\n",
              "69   293.007492 -532.851557    12.483106  ...  0.561031  0.099509 -0.630365\n",
              "107   89.682544   15.787561   -45.007085  ...  0.110622 -0.074139 -0.155467\n",
              "157 -548.975282  184.602912   759.901245  ... -1.304782 -0.308109  1.290681\n",
              "143 -557.337283  -27.162119  -168.465225  ... -0.667706  0.509743  0.107788\n",
              "20  -221.286191 -445.194874   -48.663117  ...  0.092568 -0.190718  0.156251\n",
              "436   35.973867  599.607075  -271.188522  ...  0.207038 -0.185372 -0.003074\n",
              "251  -75.859136  505.465459  -342.863016  ...  0.313938 -0.268734 -0.171826\n",
              "262  -72.113013  213.549385  -118.491783  ...  0.037071  0.249549 -0.269135\n",
              "108 -272.542307 -718.100330  1301.692712  ...  0.363216 -0.594977  0.073109\n",
              "477   74.855656  167.814498   325.128415  ... -0.200113  0.220453 -0.014237\n",
              "\n",
              "[10 rows x 18 columns]"
            ]
          },
          "metadata": {},
          "execution_count": 25
        }
      ]
    },
    {
      "cell_type": "markdown",
      "metadata": {
        "id": "V69kemRz84Ez"
      },
      "source": [
        "Prepare six separate plots for each of the multi-class coefficients."
      ]
    },
    {
      "cell_type": "code",
      "metadata": {
        "colab": {
          "base_uri": "https://localhost:8080/",
          "height": 712
        },
        "id": "64Kz0ThU84Ez",
        "outputId": "91eb356a-5cc3-49ea-fed3-dc50a1072cdf"
      },
      "source": [
        "fig, axList = plt.subplots(nrows=3, ncols=2)\n",
        "axList = axList.flatten()\n",
        "fig.set_size_inches(10,10)\n",
        "\n",
        "\n",
        "for ax in enumerate(axList):\n",
        "    loc = ax[0]\n",
        "    ax = ax[1]\n",
        "    \n",
        "    data_aux = coefficients.xs(loc, level=1, axis=1)\n",
        "    data_aux.plot(marker='o', ls='', ms=2.0, ax=ax, legend=False)\n",
        "    \n",
        "    if ax is axList[0]:\n",
        "        ax.legend(loc=4)\n",
        "        \n",
        "    ax.set(title='Coefficient Set '+str(loc))\n",
        "\n",
        "plt.tight_layout()\n",
        "\n",
        "\n"
      ],
      "execution_count": 26,
      "outputs": [
        {
          "output_type": "display_data",
          "data": {
            "image/png": "[encoded data removed]",
            "text/plain": [
              "<Figure size 720x720 with 6 Axes>"
            ]
          },
          "metadata": {}
        }
      ]
    },
    {
      "cell_type": "markdown",
      "metadata": {
        "id": "hn7MyWwM84Ez"
      },
      "source": [
        "## Question 6\n",
        "\n",
        "* Predict and store the class for each model.\n",
        "* Also store the probability for the predicted class for each model. "
      ]
    },
    {
      "cell_type": "code",
      "metadata": {
        "colab": {
          "base_uri": "https://localhost:8080/",
          "height": 206
        },
        "id": "3snNYu2A84Ez",
        "outputId": "9cf57b4a-5213-4d82-8ec6-9eece33e4438"
      },
      "source": [
        "# Predict the class and the probability for each\n",
        "\n",
        "y_pred = list()\n",
        "y_prob = list()\n",
        "\n",
        "coeff_labels = ['lr', 'l1', 'l2']\n",
        "coeff_models = [lr, lr_l1, lr_l2]\n",
        "\n",
        "for lab,mod in zip(coeff_labels, coeff_models):\n",
        "    y_pred.append(pd.Series(mod.predict(X_test), name=lab))\n",
        "    y_prob.append(pd.Series(mod.predict_proba(X_test).max(axis=1), name=lab))\n",
        "    \n",
        "y_pred = pd.concat(y_pred, axis=1)\n",
        "y_prob = pd.concat(y_prob, axis=1)\n",
        "\n",
        "y_pred.head()\n",
        "\n"
      ],
      "execution_count": 27,
      "outputs": [
        {
          "output_type": "execute_result",
          "data": {
            "text/html": [
              "<div>\n",
              "<style scoped>\n",
              "    .dataframe tbody tr th:only-of-type {\n",
              "        vertical-align: middle;\n",
              "    }\n",
              "\n",
              "    .dataframe tbody tr th {\n",
              "        vertical-align: top;\n",
              "    }\n",
              "\n",
              "    .dataframe thead th {\n",
              "        text-align: right;\n",
              "    }\n",
              "</style>\n",
              "<table border=\"1\" class=\"dataframe\">\n",
              "  <thead>\n",
              "    <tr style=\"text-align: right;\">\n",
              "      <th></th>\n",
              "      <th>lr</th>\n",
              "      <th>l1</th>\n",
              "      <th>l2</th>\n",
              "    </tr>\n",
              "  </thead>\n",
              "  <tbody>\n",
              "    <tr>\n",
              "      <th>0</th>\n",
              "      <td>3</td>\n",
              "      <td>3</td>\n",
              "      <td>3</td>\n",
              "    </tr>\n",
              "    <tr>\n",
              "      <th>1</th>\n",
              "      <td>5</td>\n",
              "      <td>5</td>\n",
              "      <td>5</td>\n",
              "    </tr>\n",
              "    <tr>\n",
              "      <th>2</th>\n",
              "      <td>3</td>\n",
              "      <td>3</td>\n",
              "      <td>3</td>\n",
              "    </tr>\n",
              "    <tr>\n",
              "      <th>3</th>\n",
              "      <td>1</td>\n",
              "      <td>1</td>\n",
              "      <td>1</td>\n",
              "    </tr>\n",
              "    <tr>\n",
              "      <th>4</th>\n",
              "      <td>0</td>\n",
              "      <td>0</td>\n",
              "      <td>0</td>\n",
              "    </tr>\n",
              "  </tbody>\n",
              "</table>\n",
              "</div>"
            ],
            "text/plain": [
              "   lr  l1  l2\n",
              "0   3   3   3\n",
              "1   5   5   5\n",
              "2   3   3   3\n",
              "3   1   1   1\n",
              "4   0   0   0"
            ]
          },
          "metadata": {},
          "execution_count": 27
        }
      ]
    },
    {
      "cell_type": "code",
      "metadata": {
        "colab": {
          "base_uri": "https://localhost:8080/",
          "height": 206
        },
        "id": "DM1caZqF84E0",
        "outputId": "3b16006d-594b-452e-dba1-642b140a1fca"
      },
      "source": [
        "y_prob.head()"
      ],
      "execution_count": 28,
      "outputs": [
        {
          "output_type": "execute_result",
          "data": {
            "text/html": [
              "<div>\n",
              "<style scoped>\n",
              "    .dataframe tbody tr th:only-of-type {\n",
              "        vertical-align: middle;\n",
              "    }\n",
              "\n",
              "    .dataframe tbody tr th {\n",
              "        vertical-align: top;\n",
              "    }\n",
              "\n",
              "    .dataframe thead th {\n",
              "        text-align: right;\n",
              "    }\n",
              "</style>\n",
              "<table border=\"1\" class=\"dataframe\">\n",
              "  <thead>\n",
              "    <tr style=\"text-align: right;\">\n",
              "      <th></th>\n",
              "      <th>lr</th>\n",
              "      <th>l1</th>\n",
              "      <th>l2</th>\n",
              "    </tr>\n",
              "  </thead>\n",
              "  <tbody>\n",
              "    <tr>\n",
              "      <th>0</th>\n",
              "      <td>1.0</td>\n",
              "      <td>0.998922</td>\n",
              "      <td>0.999999</td>\n",
              "    </tr>\n",
              "    <tr>\n",
              "      <th>1</th>\n",
              "      <td>1.0</td>\n",
              "      <td>0.999603</td>\n",
              "      <td>0.999654</td>\n",
              "    </tr>\n",
              "    <tr>\n",
              "      <th>2</th>\n",
              "      <td>1.0</td>\n",
              "      <td>0.995448</td>\n",
              "      <td>0.998871</td>\n",
              "    </tr>\n",
              "    <tr>\n",
              "      <th>3</th>\n",
              "      <td>1.0</td>\n",
              "      <td>0.999169</td>\n",
              "      <td>0.997831</td>\n",
              "    </tr>\n",
              "    <tr>\n",
              "      <th>4</th>\n",
              "      <td>1.0</td>\n",
              "      <td>0.999920</td>\n",
              "      <td>0.999305</td>\n",
              "    </tr>\n",
              "  </tbody>\n",
              "</table>\n",
              "</div>"
            ],
            "text/plain": [
              "    lr        l1        l2\n",
              "0  1.0  0.998922  0.999999\n",
              "1  1.0  0.999603  0.999654\n",
              "2  1.0  0.995448  0.998871\n",
              "3  1.0  0.999169  0.997831\n",
              "4  1.0  0.999920  0.999305"
            ]
          },
          "metadata": {},
          "execution_count": 28
        }
      ]
    },
    {
      "cell_type": "markdown",
      "metadata": {
        "id": "0dnFQr-184E0"
      },
      "source": [
        "## Question 7\n",
        "\n",
        "For each model, calculate the following error metrics: \n",
        "\n",
        "* accuracy\n",
        "* precision\n",
        "* recall\n",
        "* fscore\n",
        "* confusion matrix\n",
        "\n",
        "Decide how to combine the multi-class metrics into a single value for each model."
      ]
    },
    {
      "cell_type": "code",
      "metadata": {
        "id": "2cJkeZ6h84E0"
      },
      "source": [
        "from sklearn.metrics import precision_recall_fscore_support as score\n",
        "from sklearn.metrics import confusion_matrix, accuracy_score, roc_auc_score\n",
        "from sklearn.preprocessing import label_binarize\n",
        "\n",
        "metrics = list()\n",
        "cm = dict()\n",
        "\n",
        "for lab in coeff_labels:\n",
        "\n",
        "    # Preciision, recall, f-score from the multi-class support function\n",
        "    precision, recall, fscore, _ = score(y_test, y_pred[lab], average='weighted')\n",
        "    \n",
        "    # The usual way to calculate accuracy\n",
        "    accuracy = accuracy_score(y_test, y_pred[lab])\n",
        "    \n",
        "    # ROC-AUC scores can be calculated by binarizing the data\n",
        "    auc = roc_auc_score(label_binarize(y_test, classes=[0,1,2,3,4,5]),\n",
        "              label_binarize(y_pred[lab], classes=[0,1,2,3,4,5]), \n",
        "              average='weighted')\n",
        "    \n",
        "    # Last, the confusion matrix\n",
        "    cm[lab] = confusion_matrix(y_test, y_pred[lab])\n",
        "    \n",
        "    metrics.append(pd.Series({'precision':precision, 'recall':recall, \n",
        "                              'fscore':fscore, 'accuracy':accuracy,\n",
        "                              'auc':auc}, \n",
        "                             name=lab))\n",
        "\n",
        "metrics = pd.concat(metrics, axis=1)\n"
      ],
      "execution_count": 29,
      "outputs": []
    },
    {
      "cell_type": "code",
      "metadata": {
        "colab": {
          "base_uri": "https://localhost:8080/",
          "height": 206
        },
        "id": "QmUcBH9V84E0",
        "outputId": "e61986a4-1706-42fe-8236-5f6493a87f64"
      },
      "source": [
        "#Run the metrics\n",
        "metrics"
      ],
      "execution_count": 30,
      "outputs": [
        {
          "output_type": "execute_result",
          "data": {
            "text/html": [
              "<div>\n",
              "<style scoped>\n",
              "    .dataframe tbody tr th:only-of-type {\n",
              "        vertical-align: middle;\n",
              "    }\n",
              "\n",
              "    .dataframe tbody tr th {\n",
              "        vertical-align: top;\n",
              "    }\n",
              "\n",
              "    .dataframe thead th {\n",
              "        text-align: right;\n",
              "    }\n",
              "</style>\n",
              "<table border=\"1\" class=\"dataframe\">\n",
              "  <thead>\n",
              "    <tr style=\"text-align: right;\">\n",
              "      <th></th>\n",
              "      <th>lr</th>\n",
              "      <th>l1</th>\n",
              "      <th>l2</th>\n",
              "    </tr>\n",
              "  </thead>\n",
              "  <tbody>\n",
              "    <tr>\n",
              "      <th>precision</th>\n",
              "      <td>0.980879</td>\n",
              "      <td>0.983835</td>\n",
              "      <td>0.983485</td>\n",
              "    </tr>\n",
              "    <tr>\n",
              "      <th>recall</th>\n",
              "      <td>0.980906</td>\n",
              "      <td>0.983819</td>\n",
              "      <td>0.983495</td>\n",
              "    </tr>\n",
              "    <tr>\n",
              "      <th>fscore</th>\n",
              "      <td>0.980888</td>\n",
              "      <td>0.983815</td>\n",
              "      <td>0.983488</td>\n",
              "    </tr>\n",
              "    <tr>\n",
              "      <th>accuracy</th>\n",
              "      <td>0.980906</td>\n",
              "      <td>0.983819</td>\n",
              "      <td>0.983495</td>\n",
              "    </tr>\n",
              "    <tr>\n",
              "      <th>auc</th>\n",
              "      <td>0.988409</td>\n",
              "      <td>0.990144</td>\n",
              "      <td>0.989983</td>\n",
              "    </tr>\n",
              "  </tbody>\n",
              "</table>\n",
              "</div>"
            ],
            "text/plain": [
              "                 lr        l1        l2\n",
              "precision  0.980879  0.983835  0.983485\n",
              "recall     0.980906  0.983819  0.983495\n",
              "fscore     0.980888  0.983815  0.983488\n",
              "accuracy   0.980906  0.983819  0.983495\n",
              "auc        0.988409  0.990144  0.989983"
            ]
          },
          "metadata": {},
          "execution_count": 30
        }
      ]
    },
    {
      "cell_type": "markdown",
      "metadata": {
        "id": "GG3klF_M84E0"
      },
      "source": [
        "## Question 8\n",
        "\n",
        "Display or plot the confusion matrix for each model."
      ]
    },
    {
      "cell_type": "code",
      "metadata": {
        "colab": {
          "base_uri": "https://localhost:8080/",
          "height": 712
        },
        "id": "_SNg_8Bh84E0",
        "outputId": "59ae031a-826c-492c-fc39-494d70b84333"
      },
      "source": [
        "\n",
        "fig, axList = plt.subplots(nrows=2, ncols=2)\n",
        "axList = axList.flatten()\n",
        "fig.set_size_inches(12, 10)\n",
        "\n",
        "axList[-1].axis('off')\n",
        "\n",
        "for ax,lab in zip(axList[:-1], coeff_labels):\n",
        "    sns.heatmap(cm[lab], ax=ax, annot=True, fmt='d');\n",
        "    ax.set(title=lab);\n",
        "    \n",
        "plt.tight_layout()\n"
      ],
      "execution_count": 31,
      "outputs": [
        {
          "output_type": "display_data",
          "data": {
            "image/png": "[encoded data removed]",
            "text/plain": [
              "<Figure size 864x720 with 7 Axes>"
            ]
          },
          "metadata": {}
        }
      ]
    },
    {
      "cell_type": "markdown",
      "metadata": {
        "collapsed": true,
        "id": "hp7VAgSz84E1"
      },
      "source": [
        "## Question 9\n",
        " Identify highly correlated columns and drop those columns before building models"
      ]
    },
    {
      "cell_type": "code",
      "metadata": {
        "colab": {
          "base_uri": "https://localhost:8080/"
        },
        "id": "LOvdz9Dt84E1",
        "outputId": "42903546-57e4-44cb-dc24-3e2aafa4813b"
      },
      "source": [
        "from sklearn.feature_selection import SelectKBest\n",
        "from sklearn.feature_selection import chi2\n",
        "from sklearn.feature_selection import VarianceThreshold\n",
        "\n",
        "\n",
        "X_data = data.iloc[:, :-1]\n",
        "\n",
        "\n",
        "#threshold with .7\n",
        "sel = VarianceThreshold(threshold=(.7 * (1 - .7)))\n",
        "X_data = pd.DataFrame(sel.fit_transform(X_data))\n",
        "\n",
        "\n",
        "feature_cols = X_data.columns[:]\n",
        "\n",
        "\n",
        "# Dividindo os subjconjuntos de treino e teste, seguindo os mesmos\n",
        "# Indices obtidos com Stratified Shuffle Split, agora com os dados\n",
        "# Com menos features\n",
        " \n",
        "\n",
        "X_train_new = X_data.loc[train_idx, :]\n",
        "\n",
        "y_train_new = data.loc[train_idx, 'Activity']\n",
        " \n",
        "X_test_new  = X_data.loc[test_idx, :]\n",
        "y_test_new  = data.loc[test_idx, 'Activity']\n",
        " \n",
        "print(X_train.shape)\n",
        "print(X_train_new.shape)\n",
        " \n",
        "print(X_test.shape)"
      ],
      "execution_count": 32,
      "outputs": [
        {
          "output_type": "stream",
          "name": "stdout",
          "text": [
            "(7209, 561)\n",
            "(7209, 50)\n",
            "(3090, 561)\n"
          ]
        }
      ]
    },
    {
      "cell_type": "markdown",
      "metadata": {
        "id": "xiYkkCl084E1"
      },
      "source": [
        " Repeat Model building with new training data after removing higly correlated columns"
      ]
    },
    {
      "cell_type": "code",
      "metadata": {
        "id": "U49eDh5Y84E1"
      },
      "source": [
        "# Try standard, L1 and L2 Logistic regression\n",
        "lr_new = LogisticRegression(max_iter=500, penalty='none').fit(X_train, y_train)"
      ],
      "execution_count": 43,
      "outputs": []
    },
    {
      "cell_type": "code",
      "metadata": {
        "id": "Rl4BWGxB84E1"
      },
      "source": [
        "#Try with different solvers like ‘newton-cg’, ‘lbfgs’, ‘sag’, ‘saga’ and give your observations"
      ],
      "execution_count": null,
      "outputs": []
    },
    {
      "cell_type": "code",
      "metadata": {
        "id": "IM-JY2CXIGIM"
      },
      "source": [
        "# L1 regularized logistic regression\n",
        "lr_l1_new = LogisticRegressionCV(Cs=10, cv=4, penalty='l1', solver='liblinear').fit(X_train, y_train)"
      ],
      "execution_count": null,
      "outputs": []
    },
    {
      "cell_type": "code",
      "metadata": {
        "id": "vm2b6db3ICvn"
      },
      "source": [
        "# L2 regularized logistic regression\n",
        "lr_l2_new = LogisticRegressionCV(Cs=10, cv=4, penalty='l2', max_iter=10000).fit(X_train, y_train)"
      ],
      "execution_count": null,
      "outputs": []
    },
    {
      "cell_type": "markdown",
      "metadata": {
        "id": "kCfUN_pQ84E1"
      },
      "source": [
        "## Question 10\n",
        "\n",
        "Compare the magnitudes of the coefficients for each of the models. If one-vs-rest fitting was used, each set of coefficients can be plotted separately. "
      ]
    },
    {
      "cell_type": "code",
      "metadata": {
        "id": "cQ3KbXIJ84E1"
      },
      "source": [
        "# Combine all the coefficients into a dataframe for comparison\n"
      ],
      "execution_count": 35,
      "outputs": []
    },
    {
      "cell_type": "markdown",
      "metadata": {
        "id": "RkueU20u84E1"
      },
      "source": [
        "Prepare six separate plots for each of the multi-class coefficients."
      ]
    },
    {
      "cell_type": "code",
      "metadata": {
        "id": "yTUbnb6z84E2"
      },
      "source": [
        "# try the plots"
      ],
      "execution_count": 36,
      "outputs": []
    },
    {
      "cell_type": "markdown",
      "metadata": {
        "id": "dzGSiJ2_84E2"
      },
      "source": [
        "## Question 11\n",
        "\n",
        "* Predict and store the class for each model.\n",
        "* Also store the probability for the predicted class for each model. "
      ]
    },
    {
      "cell_type": "code",
      "metadata": {
        "id": "my3pGpvs84E2"
      },
      "source": [
        "# Predict the class and the probability for each\n"
      ],
      "execution_count": 37,
      "outputs": []
    },
    {
      "cell_type": "markdown",
      "metadata": {
        "id": "KE7bOErJ84E2"
      },
      "source": [
        "## Question 12\n",
        "\n",
        "For each model, calculate the following error metrics: \n",
        "\n",
        "* accuracy\n",
        "* precision\n",
        "* recall\n",
        "* fscore\n",
        "* confusion matrix\n",
        "\n",
        "Decide how to combine the multi-class metrics into a single value for each model."
      ]
    },
    {
      "cell_type": "code",
      "metadata": {
        "id": "EwaZB4Cv84E2"
      },
      "source": [
        "# Calculate the error metrics as listed above"
      ],
      "execution_count": 38,
      "outputs": []
    },
    {
      "cell_type": "code",
      "metadata": {
        "id": "yJzcgBCN84E2"
      },
      "source": [
        "#Run the metrics"
      ],
      "execution_count": 39,
      "outputs": []
    },
    {
      "cell_type": "markdown",
      "metadata": {
        "id": "z4KCD_nL84E2"
      },
      "source": [
        "## Question 13\n",
        "\n",
        "Display or plot the confusion matrix for each model."
      ]
    },
    {
      "cell_type": "code",
      "metadata": {
        "id": "g-Fc38vh84E2"
      },
      "source": [
        "#plot the confusion matrix"
      ],
      "execution_count": 40,
      "outputs": []
    },
    {
      "cell_type": "code",
      "metadata": {
        "id": "LE789QwL84E2"
      },
      "source": [
        "# Perform a comparison of the outputs between Question 7 and 12 and give your observation"
      ],
      "execution_count": 41,
      "outputs": []
    },
    {
      "cell_type": "code",
      "metadata": {
        "id": "TZvqX3uR84E3"
      },
      "source": [
        "# Perform a comparison of the outputs between Question 8 and 13 and give your observation"
      ],
      "execution_count": 42,
      "outputs": []
    },
    {
      "cell_type": "code",
      "metadata": {
        "id": "vaR0iJst84E3"
      },
      "source": [
        ""
      ],
      "execution_count": 42,
      "outputs": []
    }
  ]
}